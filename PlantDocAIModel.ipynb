{
  "nbformat": 4,
  "nbformat_minor": 0,
  "metadata": {
    "colab": {
      "provenance": [],
      "machine_shape": "hm",
      "include_colab_link": true
    },
    "kernelspec": {
      "name": "python3",
      "display_name": "Python 3"
    },
    "language_info": {
      "name": "python"
    },
    "accelerator": "GPU",
    "gpuClass": "standard"
  },
  "cells": [
    {
      "cell_type": "markdown",
      "metadata": {
        "id": "view-in-github",
        "colab_type": "text"
      },
      "source": [
        "<a href=\"https://colab.research.google.com/github/JustinHuang4/PlantDoc-An-App-to-Diagnose-Plants/blob/main/PlantDocAIModel.ipynb\" target=\"_parent\"><img src=\"https://colab.research.google.com/assets/colab-badge.svg\" alt=\"Open In Colab\"/></a>"
      ]
    },
    {
      "cell_type": "markdown",
      "source": [
        "#PlantDocAIModel\n",
        "by Justin Huang\n",
        "\n",
        "Using the latest technology and software to build an application to aid farmers, planters, and gardeners alike in diagnosing and nurturing their plants.\n"
      ],
      "metadata": {
        "id": "0i54wSuEld8_"
      }
    },
    {
      "cell_type": "markdown",
      "source": [
        "##import libraries"
      ],
      "metadata": {
        "id": "h4Bqsn9EgGYu"
      }
    },
    {
      "cell_type": "code",
      "execution_count": null,
      "metadata": {
        "id": "UmfB3Q5xGXAy",
        "colab": {
          "base_uri": "https://localhost:8080/"
        },
        "outputId": "a1463ce9-d768-477f-937c-32b1c68025e8"
      },
      "outputs": [
        {
          "output_type": "stream",
          "name": "stdout",
          "text": [
            "Mounted at /content/drive\n"
          ]
        }
      ],
      "source": [
        "from google.colab import drive\n",
        "drive.mount('/content/drive')\n",
        "from tensorflow import keras\n",
        "from tensorflow.keras import layers\n",
        "from tensorflow.keras.models import Sequential\n",
        "import pandas as pd\n",
        "import numpy as np\n",
        "import tensorflow as tf\n",
        "import os\n",
        "import matplotlib.pyplot as plt\n",
        "import pathlib\n",
        "import cv2\n",
        "import glob"
      ]
    },
    {
      "cell_type": "markdown",
      "source": [
        "#assign data labels for plant disease dataset"
      ],
      "metadata": {
        "id": "rqiJVCyCpfod"
      }
    },
    {
      "cell_type": "code",
      "source": [
        "\n",
        "Apple___Black_rot = '/content/drive/MyDrive/PlantDiseaseImgs/Apple___Black_rot'\n",
        "Apple___healthy = '/content/drive/MyDrive/PlantDiseaseImgs/Apple___healthy'\n",
        "Cherry____healthy = '/content/drive/MyDrive/PlantDiseaseImgs/Cherry_(including_sour)___healthy'\n",
        "Cherry____Powdery_mildew = '/content/drive/MyDrive/PlantDiseaseImgs/Cherry_(including_sour)___Powdery_mildew'\n",
        "Corn____healthy = '/content/drive/MyDrive/PlantDiseaseImgs/Corn_(maize)___healthy'\n",
        "Corn____Northern_Leaf_Blight = '/content/drive/MyDrive/PlantDiseaseImgs/Corn_(maize)___Northern_Leaf_Blight'\n",
        "Grape___Black_rot = '/content/drive/MyDrive/PlantDiseaseImgs/Grape___Black_rot'\n",
        "Grape___healthy = '/content/drive/MyDrive/PlantDiseaseImgs/Grape___healthy'\n",
        "Potato___Early_blight = '/content/drive/MyDrive/PlantDiseaseImgs/Potato___Early_blight'\n",
        "Potato___healthy = '/content/drive/MyDrive/PlantDiseaseImgs/Potato___healthy'\n",
        "Tomato___Bacterial_spot = '/content/drive/MyDrive/PlantDiseaseImgs/Tomato___Bacterial_spot'\n",
        "Tomato___healthy = '/content/drive/MyDrive/PlantDiseaseImgs/Tomato___healthy'\n",
        "Tomato___Tomato_mosaic_virus = '/content/drive/MyDrive/PlantDiseaseImgs/Tomato___Tomato_mosaic_virus'\n",
        "\n",
        "Apple___Black_rot = [cv2.imread(image) for image in glob.glob(Apple___Black_rot)]\n",
        "Apple___healthy = [cv2.imread(image) for image in glob.glob(Apple___healthy)]\n",
        "Cherry____healthy = [cv2.imread(image) for image in glob.glob(Cherry____healthy)]\n",
        "Cherry____Powdery_mildew = [cv2.imread(image) for image in glob.glob(Cherry____Powdery_mildew)]\n",
        "Corn____healthy = [cv2.imread(image) for image in glob.glob(Corn____healthy)]\n",
        "Corn____Northern_Leaf_Blight  = [cv2.imread(image) for image in glob.glob(Corn____Northern_Leaf_Blight)]\n",
        "Grape___Black_rot = [cv2.imread(image) for image in glob.glob(Grape___Black_rot)]\n",
        "Grape___healthy = [cv2.imread(image) for image in glob.glob(Grape___healthy)]\n",
        "Potato___Early_blight = [cv2.imread(image) for image in glob.glob(Potato___Early_blight)]\n",
        "Potato___healthy = [cv2.imread(image) for image in glob.glob(Potato___healthy)]\n",
        "Tomato___Bacterial_spot = [cv2.imread(image) for image in glob.glob(Tomato___Bacterial_spot)]\n",
        "Tomato___healthy = [cv2.imread(image) for image in glob.glob(Tomato___healthy)]\n",
        "Tomato___Tomato_mosaic_virus = [cv2.imread(image) for image in glob.glob(Tomato___Tomato_mosaic_virus)]\n",
        "\n",
        "\n",
        "#split data into training and testing for model\n",
        "train_dataset = tf.keras.utils.image_dataset_from_directory(\n",
        "    '/content/drive/MyDrive/PlantDiseaseImgs',\n",
        "    validation_split = 0.2,\n",
        "    subset = \"training\",\n",
        "    seed = 24,  \n",
        "    image_size = (256, 256),\n",
        "    batch_size = 64\n",
        ")\n",
        "\n",
        "val_dataset = tf.keras.utils.image_dataset_from_directory(\n",
        "    '/content/drive/MyDrive/PlantDiseaseImgs',\n",
        "    validation_split = 0.2,\n",
        "    subset = \"validation\",\n",
        "    seed = 24,  \n",
        "    image_size = (256, 256),\n",
        "    batch_size = 64\n",
        ")\n",
        "\n",
        "\n",
        "\n",
        "\n",
        "\n",
        "train_dataset = train_dataset.cache().shuffle(13).prefetch(buffer_size = tf.data.AUTOTUNE)\n",
        "val_dataset = val_dataset.cache().shuffle(13).prefetch(buffer_size = tf.data.AUTOTUNE)\n"
      ],
      "metadata": {
        "colab": {
          "base_uri": "https://localhost:8080/"
        },
        "id": "ULsUt1M8MwrO",
        "outputId": "935dedc6-6aac-4674-f0d8-577b5d4899d9"
      },
      "execution_count": null,
      "outputs": [
        {
          "output_type": "stream",
          "name": "stdout",
          "text": [
            "Found 2430 files belonging to 13 classes.\n",
            "Using 1944 files for training.\n",
            "Found 2430 files belonging to 13 classes.\n",
            "Using 486 files for validation.\n"
          ]
        }
      ]
    },
    {
      "cell_type": "markdown",
      "source": [
        "##Model\n",
        "\n"
      ],
      "metadata": {
        "id": "8O4u8a0WmOkD"
      }
    },
    {
      "cell_type": "code",
      "source": [
        "\n",
        "model = Sequential ([\n",
        "    \n",
        "    \n",
        "    layers.Rescaling(1/255, input_shape = (256, 256, 3)), #input layer for input data\n",
        "    layers.Conv2D(32, 3, padding = 'same', activation = 'relu'),\n",
        "    layers.MaxPooling2D(),\n",
        "    layers.Dropout(0.2),\n",
        "    layers.Conv2D(64, 3, padding = 'same', activation = 'relu'),\n",
        "    layers.MaxPooling2D(),\n",
        "    layers.Dropout(0.2),\n",
        "    layers.Conv2D(64, 3, padding = 'same', activation = 'relu'),\n",
        "    layers.MaxPooling2D(),\n",
        "    layers.Dropout(0.2),\n",
        "    layers.Conv2D(32, 3, padding = 'same', activation = 'relu'),\n",
        "    layers.MaxPooling2D(),\n",
        "    layers.Dropout(0.2),\n",
        "    layers.Flatten(),\n",
        "    layers.Dense(128, activation = 'relu'),\n",
        "    layers.Dense(13, activation = 'softmax') #because there are 13 classes/categories of plant conditions.\n",
        "    #softmax used because: it assigns decimal probabilities to each category in a multi-class problem\n",
        "])\n",
        "model.summary()\n"
      ],
      "metadata": {
        "colab": {
          "base_uri": "https://localhost:8080/",
          "height": 929
        },
        "id": "ZF96cNbCmNid",
        "outputId": "f89f7aa5-2f5c-414c-de45-c74f46a511e7"
      },
      "execution_count": null,
      "outputs": [
        {
          "output_type": "stream",
          "name": "stdout",
          "text": [
            "Model: \"sequential\"\n",
            "_________________________________________________________________\n",
            " Layer (type)                Output Shape              Param #   \n",
            "=================================================================\n",
            " rescaling (Rescaling)       (None, 256, 256, 3)       0         \n",
            "                                                                 \n",
            " conv2d (Conv2D)             (None, 256, 256, 32)      896       \n",
            "                                                                 \n",
            " max_pooling2d (MaxPooling2D  (None, 128, 128, 32)     0         \n",
            " )                                                               \n",
            "                                                                 \n",
            " dropout (Dropout)           (None, 128, 128, 32)      0         \n",
            "                                                                 \n",
            " conv2d_1 (Conv2D)           (None, 128, 128, 64)      18496     \n",
            "                                                                 \n",
            " max_pooling2d_1 (MaxPooling  (None, 64, 64, 64)       0         \n",
            " 2D)                                                             \n",
            "                                                                 \n",
            " dropout_1 (Dropout)         (None, 64, 64, 64)        0         \n",
            "                                                                 \n",
            " conv2d_2 (Conv2D)           (None, 64, 64, 64)        36928     \n",
            "                                                                 \n",
            " max_pooling2d_2 (MaxPooling  (None, 32, 32, 64)       0         \n",
            " 2D)                                                             \n",
            "                                                                 \n",
            " dropout_2 (Dropout)         (None, 32, 32, 64)        0         \n",
            "                                                                 \n",
            " conv2d_3 (Conv2D)           (None, 32, 32, 32)        18464     \n",
            "                                                                 \n",
            " max_pooling2d_3 (MaxPooling  (None, 16, 16, 32)       0         \n",
            " 2D)                                                             \n",
            "                                                                 \n",
            " dropout_3 (Dropout)         (None, 16, 16, 32)        0         \n",
            "                                                                 \n",
            " flatten (Flatten)           (None, 8192)              0         \n",
            "                                                                 \n",
            " dense (Dense)               (None, 128)               1048704   \n",
            "                                                                 \n",
            " dense_1 (Dense)             (None, 13)                1677      \n",
            "                                                                 \n",
            "=================================================================\n",
            "Total params: 1,125,165\n",
            "Trainable params: 1,125,165\n",
            "Non-trainable params: 0\n",
            "_________________________________________________________________\n"
          ]
        },
        {
          "output_type": "execute_result",
          "data": {
            "text/plain": [
              "\"\\n\\nmodel = Sequential ([\\n    layers.Rescaling(1./255, input_shape = (227, 227, 3)),\\n    layers.Conv2D(16, 3, padding = 'same', activation = 'relu'),\\n    layers.MaxPooling2D(),\\n    layers.Conv2D(32, 3, padding = 'same', activation = 'relu'),\\n    layers.MaxPooling2D(),\\n    layers.Conv2D(64, 3, padding = 'same', activation = 'relu'),\\n    layers.MaxPooling2D(),\\n    layers.Flatten(),\\n    layers.Dense(128, activation = 'relu'),\\n    layers.Dense(2)\\n])\\n\\nmodel.compile(optimizer = 'adam', loss = tf.keras.losses.SparseCategoricalCrossentropy(from_logits = True), metrics = ['accuracy'])\\n\\nmodel.fit (\\n    train_dataset, \\n    validation_data = val_dataset,\\n    epochs = 70\\n)\\nmodel.save('PlantDocModel.h5')\\n\""
            ],
            "application/vnd.google.colaboratory.intrinsic+json": {
              "type": "string"
            }
          },
          "metadata": {},
          "execution_count": 3
        }
      ]
    },
    {
      "cell_type": "markdown",
      "source": [
        "#train model"
      ],
      "metadata": {
        "id": "Y5eUIYgOqBIu"
      }
    },
    {
      "cell_type": "code",
      "source": [
        "model.compile(optimizer = 'adam', loss = tf.keras.losses.SparseCategoricalCrossentropy(from_logits = True), metrics = ['accuracy'])\n",
        "'''\n",
        "model.compile(\n",
        "    loss='sparse_categorical_crossentropy',\n",
        "    optimizer=keras.optimizers.Adam(learning_rate=1e-4),\n",
        "    metrics=['accuracy'],  run_eagerly=True\n",
        ")\n",
        "\n",
        "'''\n",
        "model.fit (\n",
        "    train_dataset, \n",
        "    validation_data = val_dataset,\n",
        "    epochs = 90\n",
        ")\n"
      ],
      "metadata": {
        "colab": {
          "base_uri": "https://localhost:8080/"
        },
        "id": "4CaGQFS2Hlk6",
        "outputId": "cccb91ab-6349-4100-ab6f-b598dcf8d657"
      },
      "execution_count": null,
      "outputs": [
        {
          "output_type": "stream",
          "name": "stdout",
          "text": [
            "Epoch 1/90\n"
          ]
        },
        {
          "output_type": "stream",
          "name": "stderr",
          "text": [
            "/usr/local/lib/python3.8/dist-packages/keras/backend.py:5585: UserWarning: \"`sparse_categorical_crossentropy` received `from_logits=True`, but the `output` argument was produced by a Softmax activation and thus does not represent logits. Was this intended?\n",
            "  output, from_logits = _get_logits(\n"
          ]
        },
        {
          "output_type": "stream",
          "name": "stdout",
          "text": [
            "31/31 [==============================] - 777s 11s/step - loss: 1.8400 - accuracy: 0.5401 - val_loss: 2.1130 - val_accuracy: 0.5947\n",
            "Epoch 2/90\n",
            "31/31 [==============================] - 7s 214ms/step - loss: 1.4740 - accuracy: 0.5700 - val_loss: 1.5006 - val_accuracy: 0.6440\n",
            "Epoch 3/90\n",
            "31/31 [==============================] - 7s 211ms/step - loss: 1.0544 - accuracy: 0.6759 - val_loss: 0.9924 - val_accuracy: 0.6831\n",
            "Epoch 4/90\n",
            "31/31 [==============================] - 7s 212ms/step - loss: 0.8151 - accuracy: 0.7397 - val_loss: 0.9088 - val_accuracy: 0.7449\n",
            "Epoch 5/90\n",
            "31/31 [==============================] - 7s 213ms/step - loss: 0.6052 - accuracy: 0.8112 - val_loss: 0.7456 - val_accuracy: 0.7922\n",
            "Epoch 6/90\n",
            "31/31 [==============================] - 7s 212ms/step - loss: 0.4526 - accuracy: 0.8616 - val_loss: 0.6564 - val_accuracy: 0.8107\n",
            "Epoch 7/90\n",
            "31/31 [==============================] - 7s 213ms/step - loss: 0.3279 - accuracy: 0.8951 - val_loss: 0.5106 - val_accuracy: 0.8663\n",
            "Epoch 8/90\n",
            "31/31 [==============================] - 7s 212ms/step - loss: 0.2339 - accuracy: 0.9234 - val_loss: 0.5482 - val_accuracy: 0.8621\n",
            "Epoch 9/90\n",
            "31/31 [==============================] - 7s 211ms/step - loss: 0.2047 - accuracy: 0.9414 - val_loss: 0.5308 - val_accuracy: 0.8704\n",
            "Epoch 10/90\n",
            "31/31 [==============================] - 7s 215ms/step - loss: 0.1035 - accuracy: 0.9676 - val_loss: 0.5270 - val_accuracy: 0.8683\n",
            "Epoch 11/90\n",
            "31/31 [==============================] - 7s 213ms/step - loss: 0.0721 - accuracy: 0.9753 - val_loss: 0.6489 - val_accuracy: 0.8601\n",
            "Epoch 12/90\n",
            "31/31 [==============================] - 7s 215ms/step - loss: 0.0615 - accuracy: 0.9835 - val_loss: 0.5194 - val_accuracy: 0.9074\n",
            "Epoch 13/90\n",
            "31/31 [==============================] - 7s 214ms/step - loss: 0.0516 - accuracy: 0.9810 - val_loss: 0.5984 - val_accuracy: 0.8683\n",
            "Epoch 14/90\n",
            "31/31 [==============================] - 7s 215ms/step - loss: 0.0749 - accuracy: 0.9722 - val_loss: 0.5078 - val_accuracy: 0.8827\n",
            "Epoch 15/90\n",
            "31/31 [==============================] - 7s 215ms/step - loss: 0.0824 - accuracy: 0.9794 - val_loss: 0.6054 - val_accuracy: 0.8683\n",
            "Epoch 16/90\n",
            "31/31 [==============================] - 7s 213ms/step - loss: 0.0501 - accuracy: 0.9846 - val_loss: 0.5223 - val_accuracy: 0.8868\n",
            "Epoch 17/90\n",
            "31/31 [==============================] - 7s 214ms/step - loss: 0.0271 - accuracy: 0.9902 - val_loss: 0.6263 - val_accuracy: 0.8868\n",
            "Epoch 18/90\n",
            "31/31 [==============================] - 7s 211ms/step - loss: 0.0413 - accuracy: 0.9856 - val_loss: 0.6319 - val_accuracy: 0.8724\n",
            "Epoch 19/90\n",
            "31/31 [==============================] - 7s 218ms/step - loss: 0.0328 - accuracy: 0.9887 - val_loss: 0.6720 - val_accuracy: 0.8765\n",
            "Epoch 20/90\n",
            "31/31 [==============================] - 7s 212ms/step - loss: 0.0348 - accuracy: 0.9892 - val_loss: 0.7584 - val_accuracy: 0.8704\n",
            "Epoch 21/90\n",
            "31/31 [==============================] - 7s 213ms/step - loss: 0.0713 - accuracy: 0.9805 - val_loss: 0.6510 - val_accuracy: 0.8724\n",
            "Epoch 22/90\n",
            "31/31 [==============================] - 7s 211ms/step - loss: 0.0492 - accuracy: 0.9851 - val_loss: 0.7861 - val_accuracy: 0.8560\n",
            "Epoch 23/90\n",
            "31/31 [==============================] - 7s 212ms/step - loss: 0.0285 - accuracy: 0.9907 - val_loss: 0.6793 - val_accuracy: 0.8663\n",
            "Epoch 24/90\n",
            "31/31 [==============================] - 7s 212ms/step - loss: 0.0202 - accuracy: 0.9928 - val_loss: 0.8027 - val_accuracy: 0.8704\n",
            "Epoch 25/90\n",
            "31/31 [==============================] - 7s 212ms/step - loss: 0.0213 - accuracy: 0.9933 - val_loss: 0.6049 - val_accuracy: 0.8827\n",
            "Epoch 26/90\n",
            "31/31 [==============================] - 7s 213ms/step - loss: 0.0608 - accuracy: 0.9825 - val_loss: 0.5574 - val_accuracy: 0.8807\n",
            "Epoch 27/90\n",
            "31/31 [==============================] - 6s 208ms/step - loss: 0.0915 - accuracy: 0.9717 - val_loss: 0.8932 - val_accuracy: 0.8498\n",
            "Epoch 28/90\n",
            "31/31 [==============================] - 6s 209ms/step - loss: 0.0357 - accuracy: 0.9918 - val_loss: 0.7257 - val_accuracy: 0.8621\n",
            "Epoch 29/90\n",
            "31/31 [==============================] - 7s 210ms/step - loss: 0.0093 - accuracy: 0.9985 - val_loss: 0.6073 - val_accuracy: 0.8827\n",
            "Epoch 30/90\n",
            "31/31 [==============================] - 6s 209ms/step - loss: 0.0078 - accuracy: 0.9964 - val_loss: 0.8005 - val_accuracy: 0.8704\n",
            "Epoch 31/90\n",
            "31/31 [==============================] - 7s 211ms/step - loss: 0.0082 - accuracy: 0.9985 - val_loss: 0.7052 - val_accuracy: 0.8868\n",
            "Epoch 32/90\n",
            "31/31 [==============================] - 7s 209ms/step - loss: 0.0247 - accuracy: 0.9923 - val_loss: 0.5955 - val_accuracy: 0.8724\n",
            "Epoch 33/90\n",
            "31/31 [==============================] - 6s 210ms/step - loss: 0.0185 - accuracy: 0.9943 - val_loss: 0.6563 - val_accuracy: 0.8971\n",
            "Epoch 34/90\n",
            "31/31 [==============================] - 7s 212ms/step - loss: 0.0077 - accuracy: 0.9969 - val_loss: 1.1204 - val_accuracy: 0.8354\n",
            "Epoch 35/90\n",
            "31/31 [==============================] - 6s 210ms/step - loss: 0.0080 - accuracy: 0.9969 - val_loss: 0.9069 - val_accuracy: 0.8807\n",
            "Epoch 36/90\n",
            "31/31 [==============================] - 7s 213ms/step - loss: 0.0036 - accuracy: 1.0000 - val_loss: 0.6737 - val_accuracy: 0.8951\n",
            "Epoch 37/90\n",
            "31/31 [==============================] - 7s 210ms/step - loss: 0.0016 - accuracy: 1.0000 - val_loss: 0.9195 - val_accuracy: 0.8827\n",
            "Epoch 38/90\n",
            "31/31 [==============================] - 7s 212ms/step - loss: 5.7998e-04 - accuracy: 1.0000 - val_loss: 0.8541 - val_accuracy: 0.8909\n",
            "Epoch 39/90\n",
            "31/31 [==============================] - 7s 211ms/step - loss: 0.0030 - accuracy: 0.9995 - val_loss: 1.1297 - val_accuracy: 0.8642\n",
            "Epoch 40/90\n",
            "31/31 [==============================] - 7s 212ms/step - loss: 0.0011 - accuracy: 1.0000 - val_loss: 0.8672 - val_accuracy: 0.8909\n",
            "Epoch 41/90\n",
            "31/31 [==============================] - 7s 211ms/step - loss: 7.5443e-04 - accuracy: 1.0000 - val_loss: 0.6543 - val_accuracy: 0.8992\n",
            "Epoch 42/90\n",
            "31/31 [==============================] - 7s 211ms/step - loss: 3.7617e-04 - accuracy: 1.0000 - val_loss: 0.7322 - val_accuracy: 0.9012\n",
            "Epoch 43/90\n",
            "31/31 [==============================] - 7s 211ms/step - loss: 3.4258e-04 - accuracy: 1.0000 - val_loss: 0.7167 - val_accuracy: 0.9033\n",
            "Epoch 44/90\n",
            "31/31 [==============================] - 7s 213ms/step - loss: 2.2670e-04 - accuracy: 1.0000 - val_loss: 0.7143 - val_accuracy: 0.9053\n",
            "Epoch 45/90\n",
            "31/31 [==============================] - 7s 213ms/step - loss: 6.4199e-04 - accuracy: 1.0000 - val_loss: 0.7568 - val_accuracy: 0.8992\n",
            "Epoch 46/90\n",
            "31/31 [==============================] - 7s 219ms/step - loss: 5.9851e-04 - accuracy: 1.0000 - val_loss: 0.8212 - val_accuracy: 0.9012\n",
            "Epoch 47/90\n",
            "31/31 [==============================] - 7s 212ms/step - loss: 0.0023 - accuracy: 0.9990 - val_loss: 0.8323 - val_accuracy: 0.8951\n",
            "Epoch 48/90\n",
            "31/31 [==============================] - 7s 210ms/step - loss: 0.0749 - accuracy: 0.9784 - val_loss: 0.6041 - val_accuracy: 0.8786\n",
            "Epoch 49/90\n",
            "31/31 [==============================] - 6s 208ms/step - loss: 0.0663 - accuracy: 0.9799 - val_loss: 0.6762 - val_accuracy: 0.8807\n",
            "Epoch 50/90\n",
            "31/31 [==============================] - 6s 208ms/step - loss: 0.0156 - accuracy: 0.9938 - val_loss: 1.0837 - val_accuracy: 0.8621\n",
            "Epoch 51/90\n",
            "31/31 [==============================] - 6s 207ms/step - loss: 0.0268 - accuracy: 0.9907 - val_loss: 0.8672 - val_accuracy: 0.8745\n",
            "Epoch 52/90\n",
            "31/31 [==============================] - 6s 207ms/step - loss: 0.0182 - accuracy: 0.9938 - val_loss: 0.9440 - val_accuracy: 0.8683\n",
            "Epoch 53/90\n",
            "31/31 [==============================] - 6s 209ms/step - loss: 0.0151 - accuracy: 0.9938 - val_loss: 1.0669 - val_accuracy: 0.8519\n",
            "Epoch 54/90\n",
            "31/31 [==============================] - 6s 206ms/step - loss: 0.0331 - accuracy: 0.9913 - val_loss: 0.9161 - val_accuracy: 0.8539\n",
            "Epoch 55/90\n",
            "31/31 [==============================] - 6s 210ms/step - loss: 0.0115 - accuracy: 0.9949 - val_loss: 0.8190 - val_accuracy: 0.8621\n",
            "Epoch 56/90\n",
            "31/31 [==============================] - 6s 208ms/step - loss: 0.0154 - accuracy: 0.9949 - val_loss: 0.7754 - val_accuracy: 0.8704\n",
            "Epoch 57/90\n",
            "31/31 [==============================] - 6s 209ms/step - loss: 0.0206 - accuracy: 0.9938 - val_loss: 1.0274 - val_accuracy: 0.8416\n",
            "Epoch 58/90\n",
            "31/31 [==============================] - 7s 210ms/step - loss: 0.0113 - accuracy: 0.9979 - val_loss: 0.7336 - val_accuracy: 0.8889\n",
            "Epoch 59/90\n",
            "31/31 [==============================] - 6s 207ms/step - loss: 0.0023 - accuracy: 0.9990 - val_loss: 0.7186 - val_accuracy: 0.8848\n",
            "Epoch 60/90\n",
            "31/31 [==============================] - 6s 208ms/step - loss: 0.0032 - accuracy: 0.9990 - val_loss: 0.7463 - val_accuracy: 0.8868\n",
            "Epoch 61/90\n",
            "31/31 [==============================] - 7s 210ms/step - loss: 0.0111 - accuracy: 0.9974 - val_loss: 0.6576 - val_accuracy: 0.8909\n",
            "Epoch 62/90\n",
            "31/31 [==============================] - 6s 208ms/step - loss: 0.0144 - accuracy: 0.9969 - val_loss: 1.1049 - val_accuracy: 0.8436\n",
            "Epoch 63/90\n",
            "31/31 [==============================] - 6s 209ms/step - loss: 0.0093 - accuracy: 0.9974 - val_loss: 0.6114 - val_accuracy: 0.9115\n",
            "Epoch 64/90\n",
            "31/31 [==============================] - 6s 208ms/step - loss: 0.0034 - accuracy: 0.9990 - val_loss: 0.6285 - val_accuracy: 0.9115\n",
            "Epoch 65/90\n",
            "31/31 [==============================] - 6s 208ms/step - loss: 0.0015 - accuracy: 1.0000 - val_loss: 0.9150 - val_accuracy: 0.8786\n",
            "Epoch 66/90\n",
            "31/31 [==============================] - 6s 207ms/step - loss: 0.0012 - accuracy: 1.0000 - val_loss: 0.7454 - val_accuracy: 0.9033\n",
            "Epoch 67/90\n",
            "31/31 [==============================] - 6s 208ms/step - loss: 3.2985e-04 - accuracy: 1.0000 - val_loss: 0.7784 - val_accuracy: 0.8951\n",
            "Epoch 68/90\n",
            "31/31 [==============================] - 6s 208ms/step - loss: 0.0033 - accuracy: 0.9985 - val_loss: 0.9456 - val_accuracy: 0.8848\n",
            "Epoch 69/90\n",
            "31/31 [==============================] - 6s 208ms/step - loss: 0.0040 - accuracy: 0.9985 - val_loss: 0.7946 - val_accuracy: 0.8909\n",
            "Epoch 70/90\n",
            "31/31 [==============================] - 6s 209ms/step - loss: 0.0042 - accuracy: 0.9979 - val_loss: 0.7799 - val_accuracy: 0.8930\n",
            "Epoch 71/90\n",
            "31/31 [==============================] - 7s 209ms/step - loss: 0.0143 - accuracy: 0.9943 - val_loss: 0.9789 - val_accuracy: 0.8683\n",
            "Epoch 72/90\n",
            "31/31 [==============================] - 6s 207ms/step - loss: 0.0262 - accuracy: 0.9892 - val_loss: 0.7725 - val_accuracy: 0.8745\n",
            "Epoch 73/90\n",
            "31/31 [==============================] - 6s 209ms/step - loss: 0.0847 - accuracy: 0.9758 - val_loss: 0.8193 - val_accuracy: 0.8519\n",
            "Epoch 74/90\n",
            "31/31 [==============================] - 6s 207ms/step - loss: 0.0292 - accuracy: 0.9918 - val_loss: 0.8079 - val_accuracy: 0.8745\n",
            "Epoch 75/90\n",
            "31/31 [==============================] - 6s 207ms/step - loss: 0.0331 - accuracy: 0.9892 - val_loss: 0.5617 - val_accuracy: 0.8889\n",
            "Epoch 76/90\n",
            "31/31 [==============================] - 6s 207ms/step - loss: 0.0101 - accuracy: 0.9969 - val_loss: 0.7650 - val_accuracy: 0.8848\n",
            "Epoch 77/90\n",
            "31/31 [==============================] - 6s 206ms/step - loss: 0.0020 - accuracy: 0.9995 - val_loss: 0.8829 - val_accuracy: 0.8909\n",
            "Epoch 78/90\n",
            "31/31 [==============================] - 6s 207ms/step - loss: 8.9053e-04 - accuracy: 1.0000 - val_loss: 0.8558 - val_accuracy: 0.8909\n",
            "Epoch 79/90\n",
            "31/31 [==============================] - 6s 205ms/step - loss: 3.6430e-04 - accuracy: 1.0000 - val_loss: 0.7972 - val_accuracy: 0.8951\n",
            "Epoch 80/90\n",
            "31/31 [==============================] - 6s 207ms/step - loss: 2.2663e-04 - accuracy: 1.0000 - val_loss: 0.8143 - val_accuracy: 0.8930\n",
            "Epoch 81/90\n",
            "31/31 [==============================] - 6s 206ms/step - loss: 8.1347e-04 - accuracy: 0.9995 - val_loss: 0.8404 - val_accuracy: 0.8909\n",
            "Epoch 82/90\n",
            "31/31 [==============================] - 6s 207ms/step - loss: 8.6021e-04 - accuracy: 1.0000 - val_loss: 0.8521 - val_accuracy: 0.8930\n",
            "Epoch 83/90\n",
            "31/31 [==============================] - 6s 207ms/step - loss: 2.0758e-04 - accuracy: 1.0000 - val_loss: 0.8271 - val_accuracy: 0.8889\n",
            "Epoch 84/90\n",
            "31/31 [==============================] - 6s 206ms/step - loss: 4.7228e-04 - accuracy: 1.0000 - val_loss: 0.7656 - val_accuracy: 0.8889\n",
            "Epoch 85/90\n",
            "31/31 [==============================] - 6s 209ms/step - loss: 0.0044 - accuracy: 0.9985 - val_loss: 0.8540 - val_accuracy: 0.8786\n",
            "Epoch 86/90\n",
            "31/31 [==============================] - 6s 205ms/step - loss: 0.0089 - accuracy: 0.9985 - val_loss: 1.0118 - val_accuracy: 0.8683\n",
            "Epoch 87/90\n",
            "31/31 [==============================] - 6s 206ms/step - loss: 0.0097 - accuracy: 0.9974 - val_loss: 1.1069 - val_accuracy: 0.8683\n",
            "Epoch 88/90\n",
            "31/31 [==============================] - 6s 205ms/step - loss: 0.0027 - accuracy: 0.9990 - val_loss: 0.9692 - val_accuracy: 0.8765\n",
            "Epoch 89/90\n",
            "31/31 [==============================] - 6s 207ms/step - loss: 0.0088 - accuracy: 0.9969 - val_loss: 1.0684 - val_accuracy: 0.8498\n",
            "Epoch 90/90\n",
            "31/31 [==============================] - 6s 204ms/step - loss: 0.0102 - accuracy: 0.9985 - val_loss: 1.0815 - val_accuracy: 0.8560\n"
          ]
        },
        {
          "output_type": "execute_result",
          "data": {
            "text/plain": [
              "<keras.callbacks.History at 0x7f6d72bdc340>"
            ]
          },
          "metadata": {},
          "execution_count": 4
        }
      ]
    },
    {
      "cell_type": "markdown",
      "source": [
        "#shows train and test accuracies above"
      ],
      "metadata": {
        "id": "kPbvnjX7qGjL"
      }
    },
    {
      "cell_type": "markdown",
      "source": [
        "##Evaluate Performance\n",
        "\n",
        "##shows accuracies and errors in prediction of categories"
      ],
      "metadata": {
        "id": "K_bC_SbYmdUq"
      }
    },
    {
      "cell_type": "code",
      "source": [
        "loss = pd.DataFrame(model.history.history) \n",
        "plt.figure(figsize=(10,10))\n",
        "\n",
        "plt.subplot(2,2,1)\n",
        "plt.plot(loss[\"loss\"], label =\"Loss\")\n",
        "plt.plot(loss[\"val_loss\"], label = \"Validation_loss\")\n",
        "plt.legend()\n",
        "plt.title(\"Training and Validation Loss\")\n",
        "\n",
        "plt.subplot(2,2,2)\n",
        "plt.plot(loss['accuracy'],label = \"Training Accuracy\")\n",
        "plt.plot(loss['val_accuracy'], label =\"Validation_ Accuracy \")\n",
        "plt.legend()\n",
        "plt.title(\"Training-Validation Accuracy\")"
      ],
      "metadata": {
        "colab": {
          "base_uri": "https://localhost:8080/",
          "height": 329
        },
        "id": "JvWzB_usAAvy",
        "outputId": "313e3072-96bb-4627-e042-1ea7cccd8ea6"
      },
      "execution_count": null,
      "outputs": [
        {
          "output_type": "execute_result",
          "data": {
            "text/plain": [
              "Text(0.5, 1.0, 'Training-Validation Accuracy')"
            ]
          },
          "metadata": {},
          "execution_count": 5
        },
        {
          "output_type": "display_data",
          "data": {
            "text/plain": [
              "<Figure size 720x720 with 2 Axes>"
            ],
            "image/png": "[encoded data removed]"
          },
          "metadata": {
            "needs_background": "light"
          }
        }
      ]
    },
    {
      "cell_type": "markdown",
      "source": [
        "##Save Model For Web Application Deployment"
      ],
      "metadata": {
        "id": "lBtZzn4796LT"
      }
    },
    {
      "cell_type": "code",
      "source": [
        "model.save('PlantDocModel2.h5')\n"
      ],
      "metadata": {
        "id": "JinQv_JF94Ha"
      },
      "execution_count": null,
      "outputs": []
    },
    {
      "cell_type": "markdown",
      "source": [
        "##Streamlit install code for web app"
      ],
      "metadata": {
        "id": "VWDr59ukqVd3"
      }
    },
    {
      "cell_type": "code",
      "source": [
        "!pip install --upgrade google-api-python-client google-auth-httplib2 google-auth-oauthlib\n",
        "!pip install st-btn-select"
      ],
      "metadata": {
        "colab": {
          "base_uri": "https://localhost:8080/"
        },
        "id": "sd-Vt7VZqYRk",
        "outputId": "b34cc41a-d8b4-4f7d-99c4-8f84d5bae30f"
      },
      "execution_count": null,
      "outputs": [
        {
          "output_type": "stream",
          "name": "stdout",
          "text": [
            "Looking in indexes: https://pypi.org/simple, https://us-python.pkg.dev/colab-wheels/public/simple/\n",
            "Requirement already satisfied: google-api-python-client in /usr/local/lib/python3.8/dist-packages (2.70.0)\n",
            "Collecting google-api-python-client\n",
            "  Downloading google_api_python_client-2.78.0-py2.py3-none-any.whl (11.0 MB)\n",
            "\u001b[2K     \u001b[90m━━━━━━━━━━━━━━━━━━━━━━━━━━━━━━━━━━━━━━━━\u001b[0m \u001b[32m11.0/11.0 MB\u001b[0m \u001b[31m86.5 MB/s\u001b[0m eta \u001b[36m0:00:00\u001b[0m\n",
            "\u001b[?25hRequirement already satisfied: google-auth-httplib2 in /usr/local/lib/python3.8/dist-packages (0.1.0)\n",
            "Requirement already satisfied: google-auth-oauthlib in /usr/local/lib/python3.8/dist-packages (0.4.6)\n",
            "Collecting google-auth-oauthlib\n",
            "  Downloading google_auth_oauthlib-1.0.0-py2.py3-none-any.whl (18 kB)\n",
            "Requirement already satisfied: google-auth<3.0.0dev,>=1.19.0 in /usr/local/lib/python3.8/dist-packages (from google-api-python-client) (2.16.0)\n",
            "Requirement already satisfied: uritemplate<5,>=3.0.1 in /usr/local/lib/python3.8/dist-packages (from google-api-python-client) (4.1.1)\n",
            "Requirement already satisfied: httplib2<1dev,>=0.15.0 in /usr/local/lib/python3.8/dist-packages (from google-api-python-client) (0.17.4)\n",
            "Requirement already satisfied: google-api-core!=2.0.*,!=2.1.*,!=2.2.*,!=2.3.0,<3.0.0dev,>=1.31.5 in /usr/local/lib/python3.8/dist-packages (from google-api-python-client) (2.11.0)\n",
            "Requirement already satisfied: six in /usr/local/lib/python3.8/dist-packages (from google-auth-httplib2) (1.15.0)\n",
            "Requirement already satisfied: requests-oauthlib>=0.7.0 in /usr/local/lib/python3.8/dist-packages (from google-auth-oauthlib) (1.3.1)\n",
            "Requirement already satisfied: protobuf!=3.20.0,!=3.20.1,!=4.21.0,!=4.21.1,!=4.21.2,!=4.21.3,!=4.21.4,!=4.21.5,<5.0.0dev,>=3.19.5 in /usr/local/lib/python3.8/dist-packages (from google-api-core!=2.0.*,!=2.1.*,!=2.2.*,!=2.3.0,<3.0.0dev,>=1.31.5->google-api-python-client) (3.19.6)\n",
            "Requirement already satisfied: requests<3.0.0dev,>=2.18.0 in /usr/local/lib/python3.8/dist-packages (from google-api-core!=2.0.*,!=2.1.*,!=2.2.*,!=2.3.0,<3.0.0dev,>=1.31.5->google-api-python-client) (2.25.1)\n",
            "Requirement already satisfied: googleapis-common-protos<2.0dev,>=1.56.2 in /usr/local/lib/python3.8/dist-packages (from google-api-core!=2.0.*,!=2.1.*,!=2.2.*,!=2.3.0,<3.0.0dev,>=1.31.5->google-api-python-client) (1.58.0)\n",
            "Requirement already satisfied: pyasn1-modules>=0.2.1 in /usr/local/lib/python3.8/dist-packages (from google-auth<3.0.0dev,>=1.19.0->google-api-python-client) (0.2.8)\n",
            "Requirement already satisfied: rsa<5,>=3.1.4 in /usr/local/lib/python3.8/dist-packages (from google-auth<3.0.0dev,>=1.19.0->google-api-python-client) (4.9)\n",
            "Requirement already satisfied: cachetools<6.0,>=2.0.0 in /usr/local/lib/python3.8/dist-packages (from google-auth<3.0.0dev,>=1.19.0->google-api-python-client) (5.3.0)\n",
            "Requirement already satisfied: oauthlib>=3.0.0 in /usr/local/lib/python3.8/dist-packages (from requests-oauthlib>=0.7.0->google-auth-oauthlib) (3.2.2)\n",
            "Requirement already satisfied: pyasn1<0.5.0,>=0.4.6 in /usr/local/lib/python3.8/dist-packages (from pyasn1-modules>=0.2.1->google-auth<3.0.0dev,>=1.19.0->google-api-python-client) (0.4.8)\n",
            "Requirement already satisfied: chardet<5,>=3.0.2 in /usr/local/lib/python3.8/dist-packages (from requests<3.0.0dev,>=2.18.0->google-api-core!=2.0.*,!=2.1.*,!=2.2.*,!=2.3.0,<3.0.0dev,>=1.31.5->google-api-python-client) (4.0.0)\n",
            "Requirement already satisfied: urllib3<1.27,>=1.21.1 in /usr/local/lib/python3.8/dist-packages (from requests<3.0.0dev,>=2.18.0->google-api-core!=2.0.*,!=2.1.*,!=2.2.*,!=2.3.0,<3.0.0dev,>=1.31.5->google-api-python-client) (1.24.3)\n",
            "Requirement already satisfied: idna<3,>=2.5 in /usr/local/lib/python3.8/dist-packages (from requests<3.0.0dev,>=2.18.0->google-api-core!=2.0.*,!=2.1.*,!=2.2.*,!=2.3.0,<3.0.0dev,>=1.31.5->google-api-python-client) (2.10)\n",
            "Requirement already satisfied: certifi>=2017.4.17 in /usr/local/lib/python3.8/dist-packages (from requests<3.0.0dev,>=2.18.0->google-api-core!=2.0.*,!=2.1.*,!=2.2.*,!=2.3.0,<3.0.0dev,>=1.31.5->google-api-python-client) (2022.12.7)\n",
            "Installing collected packages: google-auth-oauthlib, google-api-python-client\n",
            "  Attempting uninstall: google-auth-oauthlib\n",
            "    Found existing installation: google-auth-oauthlib 0.4.6\n",
            "    Uninstalling google-auth-oauthlib-0.4.6:\n",
            "      Successfully uninstalled google-auth-oauthlib-0.4.6\n",
            "  Attempting uninstall: google-api-python-client\n",
            "    Found existing installation: google-api-python-client 2.70.0\n",
            "    Uninstalling google-api-python-client-2.70.0:\n",
            "      Successfully uninstalled google-api-python-client-2.70.0\n",
            "\u001b[31mERROR: pip's dependency resolver does not currently take into account all the packages that are installed. This behaviour is the source of the following dependency conflicts.\n",
            "tensorboard 2.11.2 requires google-auth-oauthlib<0.5,>=0.4.1, but you have google-auth-oauthlib 1.0.0 which is incompatible.\u001b[0m\u001b[31m\n",
            "\u001b[0mSuccessfully installed google-api-python-client-2.78.0 google-auth-oauthlib-1.0.0\n",
            "Looking in indexes: https://pypi.org/simple, https://us-python.pkg.dev/colab-wheels/public/simple/\n",
            "Collecting st-btn-select\n",
            "  Downloading st_btn_select-0.1.2-py3-none-any.whl (503 kB)\n",
            "\u001b[2K     \u001b[90m━━━━━━━━━━━━━━━━━━━━━━━━━━━━━━━━━━━━━━\u001b[0m \u001b[32m503.4/503.4 KB\u001b[0m \u001b[31m34.2 MB/s\u001b[0m eta \u001b[36m0:00:00\u001b[0m\n",
            "\u001b[?25hCollecting streamlit>=0.63\n",
            "  Downloading streamlit-1.18.1-py2.py3-none-any.whl (9.6 MB)\n",
            "\u001b[2K     \u001b[90m━━━━━━━━━━━━━━━━━━━━━━━━━━━━━━━━━━━━━━━━\u001b[0m \u001b[32m9.6/9.6 MB\u001b[0m \u001b[31m84.6 MB/s\u001b[0m eta \u001b[36m0:00:00\u001b[0m\n",
            "\u001b[?25hRequirement already satisfied: protobuf<4,>=3.12 in /usr/local/lib/python3.8/dist-packages (from streamlit>=0.63->st-btn-select) (3.19.6)\n",
            "Requirement already satisfied: altair>=3.2.0 in /usr/local/lib/python3.8/dist-packages (from streamlit>=0.63->st-btn-select) (4.2.2)\n",
            "Requirement already satisfied: packaging>=14.1 in /usr/local/lib/python3.8/dist-packages (from streamlit>=0.63->st-btn-select) (23.0)\n",
            "Collecting validators>=0.2\n",
            "  Downloading validators-0.20.0.tar.gz (30 kB)\n",
            "  Preparing metadata (setup.py) ... \u001b[?25l\u001b[?25hdone\n",
            "Requirement already satisfied: click>=7.0 in /usr/local/lib/python3.8/dist-packages (from streamlit>=0.63->st-btn-select) (7.1.2)\n",
            "Requirement already satisfied: python-dateutil in /usr/local/lib/python3.8/dist-packages (from streamlit>=0.63->st-btn-select) (2.8.2)\n",
            "Requirement already satisfied: pandas>=0.25 in /usr/local/lib/python3.8/dist-packages (from streamlit>=0.63->st-btn-select) (1.3.5)\n",
            "Requirement already satisfied: cachetools>=4.0 in /usr/local/lib/python3.8/dist-packages (from streamlit>=0.63->st-btn-select) (5.3.0)\n",
            "Requirement already satisfied: tzlocal>=1.1 in /usr/local/lib/python3.8/dist-packages (from streamlit>=0.63->st-btn-select) (1.5.1)\n",
            "Requirement already satisfied: typing-extensions>=3.10.0.0 in /usr/local/lib/python3.8/dist-packages (from streamlit>=0.63->st-btn-select) (4.4.0)\n",
            "Collecting pydeck>=0.1.dev5\n",
            "  Downloading pydeck-0.8.0-py2.py3-none-any.whl (4.7 MB)\n",
            "\u001b[2K     \u001b[90m━━━━━━━━━━━━━━━━━━━━━━━━━━━━━━━━━━━━━━━━\u001b[0m \u001b[32m4.7/4.7 MB\u001b[0m \u001b[31m106.0 MB/s\u001b[0m eta \u001b[36m0:00:00\u001b[0m\n",
            "\u001b[?25hRequirement already satisfied: toml in /usr/local/lib/python3.8/dist-packages (from streamlit>=0.63->st-btn-select) (0.10.2)\n",
            "Collecting rich>=10.11.0\n",
            "  Downloading rich-13.3.1-py3-none-any.whl (239 kB)\n",
            "\u001b[2K     \u001b[90m━━━━━━━━━━━━━━━━━━━━━━━━━━━━━━━━━━━━━━━\u001b[0m \u001b[32m239.0/239.0 KB\u001b[0m \u001b[31m3.8 MB/s\u001b[0m eta \u001b[36m0:00:00\u001b[0m\n",
            "\u001b[?25hRequirement already satisfied: importlib-metadata>=1.4 in /usr/local/lib/python3.8/dist-packages (from streamlit>=0.63->st-btn-select) (6.0.0)\n",
            "Collecting semver\n",
            "  Downloading semver-2.13.0-py2.py3-none-any.whl (12 kB)\n",
            "Collecting blinker>=1.0.0\n",
            "  Downloading blinker-1.5-py2.py3-none-any.whl (12 kB)\n",
            "Collecting watchdog\n",
            "  Downloading watchdog-2.2.1-py3-none-manylinux2014_x86_64.whl (78 kB)\n",
            "\u001b[2K     \u001b[90m━━━━━━━━━━━━━━━━━━━━━━━━━━━━━━━━━━━━━━━━\u001b[0m \u001b[32m79.0/79.0 KB\u001b[0m \u001b[31m12.0 MB/s\u001b[0m eta \u001b[36m0:00:00\u001b[0m\n",
            "\u001b[?25hRequirement already satisfied: tornado>=6.0.3 in /usr/local/lib/python3.8/dist-packages (from streamlit>=0.63->st-btn-select) (6.0.4)\n",
            "Requirement already satisfied: numpy in /usr/local/lib/python3.8/dist-packages (from streamlit>=0.63->st-btn-select) (1.21.6)\n",
            "Requirement already satisfied: pillow>=6.2.0 in /usr/local/lib/python3.8/dist-packages (from streamlit>=0.63->st-btn-select) (7.1.2)\n",
            "Requirement already satisfied: requests>=2.4 in /usr/local/lib/python3.8/dist-packages (from streamlit>=0.63->st-btn-select) (2.25.1)\n",
            "Collecting gitpython!=3.1.19\n",
            "  Downloading GitPython-3.1.30-py3-none-any.whl (184 kB)\n",
            "\u001b[2K     \u001b[90m━━━━━━━━━━━━━━━━━━━━━━━━━━━━━━━━━━━━━━\u001b[0m \u001b[32m184.0/184.0 KB\u001b[0m \u001b[31m24.9 MB/s\u001b[0m eta \u001b[36m0:00:00\u001b[0m\n",
            "\u001b[?25hCollecting pympler>=0.9\n",
            "  Downloading Pympler-1.0.1-py3-none-any.whl (164 kB)\n",
            "\u001b[2K     \u001b[90m━━━━━━━━━━━━━━━━━━━━━━━━━━━━━━━━━━━━━━\u001b[0m \u001b[32m164.8/164.8 KB\u001b[0m \u001b[31m24.1 MB/s\u001b[0m eta \u001b[36m0:00:00\u001b[0m\n",
            "\u001b[?25hRequirement already satisfied: pyarrow>=4.0 in /usr/local/lib/python3.8/dist-packages (from streamlit>=0.63->st-btn-select) (9.0.0)\n",
            "Requirement already satisfied: entrypoints in /usr/local/lib/python3.8/dist-packages (from altair>=3.2.0->streamlit>=0.63->st-btn-select) (0.4)\n",
            "Requirement already satisfied: toolz in /usr/local/lib/python3.8/dist-packages (from altair>=3.2.0->streamlit>=0.63->st-btn-select) (0.12.0)\n",
            "Requirement already satisfied: jinja2 in /usr/local/lib/python3.8/dist-packages (from altair>=3.2.0->streamlit>=0.63->st-btn-select) (2.11.3)\n",
            "Requirement already satisfied: jsonschema>=3.0 in /usr/local/lib/python3.8/dist-packages (from altair>=3.2.0->streamlit>=0.63->st-btn-select) (4.3.3)\n",
            "Collecting gitdb<5,>=4.0.1\n",
            "  Downloading gitdb-4.0.10-py3-none-any.whl (62 kB)\n",
            "\u001b[2K     \u001b[90m━━━━━━━━━━━━━━━━━━━━━━━━━━━━━━━━━━━━━━━━\u001b[0m \u001b[32m62.7/62.7 KB\u001b[0m \u001b[31m10.1 MB/s\u001b[0m eta \u001b[36m0:00:00\u001b[0m\n",
            "\u001b[?25hRequirement already satisfied: zipp>=0.5 in /usr/local/lib/python3.8/dist-packages (from importlib-metadata>=1.4->streamlit>=0.63->st-btn-select) (3.12.1)\n",
            "Requirement already satisfied: pytz>=2017.3 in /usr/local/lib/python3.8/dist-packages (from pandas>=0.25->streamlit>=0.63->st-btn-select) (2022.7.1)\n",
            "Requirement already satisfied: six>=1.5 in /usr/local/lib/python3.8/dist-packages (from python-dateutil->streamlit>=0.63->st-btn-select) (1.15.0)\n",
            "Requirement already satisfied: chardet<5,>=3.0.2 in /usr/local/lib/python3.8/dist-packages (from requests>=2.4->streamlit>=0.63->st-btn-select) (4.0.0)\n",
            "Requirement already satisfied: idna<3,>=2.5 in /usr/local/lib/python3.8/dist-packages (from requests>=2.4->streamlit>=0.63->st-btn-select) (2.10)\n",
            "Requirement already satisfied: certifi>=2017.4.17 in /usr/local/lib/python3.8/dist-packages (from requests>=2.4->streamlit>=0.63->st-btn-select) (2022.12.7)\n",
            "Requirement already satisfied: urllib3<1.27,>=1.21.1 in /usr/local/lib/python3.8/dist-packages (from requests>=2.4->streamlit>=0.63->st-btn-select) (1.24.3)\n",
            "Collecting markdown-it-py<3.0.0,>=2.1.0\n",
            "  Downloading markdown_it_py-2.1.0-py3-none-any.whl (84 kB)\n",
            "\u001b[2K     \u001b[90m━━━━━━━━━━━━━━━━━━━━━━━━━━━━━━━━━━━━━━━━\u001b[0m \u001b[32m84.5/84.5 KB\u001b[0m \u001b[31m13.3 MB/s\u001b[0m eta \u001b[36m0:00:00\u001b[0m\n",
            "\u001b[?25hCollecting pygments<3.0.0,>=2.14.0\n",
            "  Downloading Pygments-2.14.0-py3-none-any.whl (1.1 MB)\n",
            "\u001b[2K     \u001b[90m━━━━━━━━━━━━━━━━━━━━━━━━━━━━━━━━━━━━━━━━\u001b[0m \u001b[32m1.1/1.1 MB\u001b[0m \u001b[31m75.7 MB/s\u001b[0m eta \u001b[36m0:00:00\u001b[0m\n",
            "\u001b[?25hRequirement already satisfied: decorator>=3.4.0 in /usr/local/lib/python3.8/dist-packages (from validators>=0.2->streamlit>=0.63->st-btn-select) (4.4.2)\n",
            "Collecting smmap<6,>=3.0.1\n",
            "  Downloading smmap-5.0.0-py3-none-any.whl (24 kB)\n",
            "Requirement already satisfied: MarkupSafe>=0.23 in /usr/local/lib/python3.8/dist-packages (from jinja2->altair>=3.2.0->streamlit>=0.63->st-btn-select) (2.0.1)\n",
            "Requirement already satisfied: pyrsistent!=0.17.0,!=0.17.1,!=0.17.2,>=0.14.0 in /usr/local/lib/python3.8/dist-packages (from jsonschema>=3.0->altair>=3.2.0->streamlit>=0.63->st-btn-select) (0.19.3)\n",
            "Requirement already satisfied: attrs>=17.4.0 in /usr/local/lib/python3.8/dist-packages (from jsonschema>=3.0->altair>=3.2.0->streamlit>=0.63->st-btn-select) (22.2.0)\n",
            "Requirement already satisfied: importlib-resources>=1.4.0 in /usr/local/lib/python3.8/dist-packages (from jsonschema>=3.0->altair>=3.2.0->streamlit>=0.63->st-btn-select) (5.10.2)\n",
            "Collecting mdurl~=0.1\n",
            "  Downloading mdurl-0.1.2-py3-none-any.whl (10.0 kB)\n",
            "Building wheels for collected packages: validators\n",
            "  Building wheel for validators (setup.py) ... \u001b[?25l\u001b[?25hdone\n",
            "  Created wheel for validators: filename=validators-0.20.0-py3-none-any.whl size=19581 sha256=b8322ca5b0e64b14b9831d106be3917eda76f30d245ae770a8e4417b90e74a21\n",
            "  Stored in directory: /root/.cache/pip/wheels/19/09/72/3eb74d236bb48bd0f3c6c3c83e4e0c5bbfcbcad7c6c3539db8\n",
            "Successfully built validators\n",
            "Installing collected packages: watchdog, validators, smmap, semver, pympler, pygments, mdurl, blinker, pydeck, markdown-it-py, gitdb, rich, gitpython, streamlit, st-btn-select\n",
            "  Attempting uninstall: pygments\n",
            "    Found existing installation: Pygments 2.6.1\n",
            "    Uninstalling Pygments-2.6.1:\n",
            "      Successfully uninstalled Pygments-2.6.1\n",
            "\u001b[31mERROR: pip's dependency resolver does not currently take into account all the packages that are installed. This behaviour is the source of the following dependency conflicts.\n",
            "ipython 7.9.0 requires jedi>=0.10, which is not installed.\u001b[0m\u001b[31m\n",
            "\u001b[0mSuccessfully installed blinker-1.5 gitdb-4.0.10 gitpython-3.1.30 markdown-it-py-2.1.0 mdurl-0.1.2 pydeck-0.8.0 pygments-2.14.0 pympler-1.0.1 rich-13.3.1 semver-2.13.0 smmap-5.0.0 st-btn-select-0.1.2 streamlit-1.18.1 validators-0.20.0 watchdog-2.2.1\n"
          ]
        }
      ]
    }
  ]
}