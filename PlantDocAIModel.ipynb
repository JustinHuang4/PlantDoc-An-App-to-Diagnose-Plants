{
  "nbformat": 4,
  "nbformat_minor": 0,
  "metadata": {
    "colab": {
      "provenance": [],
      "machine_shape": "hm",
      "include_colab_link": true
    },
    "kernelspec": {
      "name": "python3",
      "display_name": "Python 3"
    },
    "language_info": {
      "name": "python"
    },
    "accelerator": "GPU",
    "gpuClass": "standard"
  },
  "cells": [
    {
      "cell_type": "markdown",
      "metadata": {
        "id": "view-in-github",
        "colab_type": "text"
      },
      "source": [
        "<a href=\"https://colab.research.google.com/github/JustinHuang4/PlantDoc-An-App-to-Diagnose-Plants/blob/main/PlantDocAIModel.ipynb\" target=\"_parent\"><img src=\"https://colab.research.google.com/assets/colab-badge.svg\" alt=\"Open In Colab\"/></a>"
      ]
    },
    {
      "cell_type": "markdown",
      "source": [
        "#PlantDocAIModel\n",
        "by Justin Huang\n",
        "\n",
        "Using the latest technology and software to build an application to aid farmers, planters, and gardeners alike in diagnosing and nurturing their plants.\n"
      ],
      "metadata": {
        "id": "0i54wSuEld8_"
      }
    },
    {
      "cell_type": "markdown",
      "source": [
        "##Data"
      ],
      "metadata": {
        "id": "h4Bqsn9EgGYu"
      }
    },
    {
      "cell_type": "code",
      "execution_count": 1,
      "metadata": {
        "id": "UmfB3Q5xGXAy",
        "colab": {
          "base_uri": "https://localhost:8080/"
        },
        "outputId": "4a94bc5a-50cf-4960-c61d-cb71a6481dcd"
      },
      "outputs": [
        {
          "output_type": "stream",
          "name": "stdout",
          "text": [
            "Mounted at /content/drive\n"
          ]
        }
      ],
      "source": [
        "from google.colab import drive\n",
        "drive.mount('/content/drive')\n",
        "from tensorflow import keras\n",
        "from tensorflow.keras import layers\n",
        "from tensorflow.keras.models import Sequential\n",
        "import pandas as pd\n",
        "import numpy as np\n",
        "import tensorflow as tf\n",
        "import os\n",
        "import matplotlib.pyplot as plt\n",
        "import pathlib\n",
        "import cv2\n",
        "import glob"
      ]
    },
    {
      "cell_type": "code",
      "source": [
        "\n",
        "Apple___Black_rot = '/content/drive/MyDrive/PlantDiseaseImgs/Apple___Black_rot'\n",
        "Apple___healthy = '/content/drive/MyDrive/PlantDiseaseImgs/Apple___healthy'\n",
        "Cherry____healthy = '/content/drive/MyDrive/PlantDiseaseImgs/Cherry_(including_sour)___healthy'\n",
        "Cherry____Powdery_mildew = '/content/drive/MyDrive/PlantDiseaseImgs/Cherry_(including_sour)___Powdery_mildew'\n",
        "Corn____healthy = '/content/drive/MyDrive/PlantDiseaseImgs/Corn_(maize)___healthy'\n",
        "Corn____Northern_Leaf_Blight = '/content/drive/MyDrive/PlantDiseaseImgs/Corn_(maize)___Northern_Leaf_Blight'\n",
        "Grape___Black_rot = '/content/drive/MyDrive/PlantDiseaseImgs/Grape___Black_rot'\n",
        "Grape___healthy = '/content/drive/MyDrive/PlantDiseaseImgs/Grape___healthy'\n",
        "Potato___Early_blight = '/content/drive/MyDrive/PlantDiseaseImgs/Potato___Early_blight'\n",
        "Potato___healthy = '/content/drive/MyDrive/PlantDiseaseImgs/Potato___healthy'\n",
        "Tomato___Bacterial_spot = '/content/drive/MyDrive/PlantDiseaseImgs/Tomato___Bacterial_spot'\n",
        "Tomato___healthy = '/content/drive/MyDrive/PlantDiseaseImgs/Tomato___healthy'\n",
        "Tomato___Tomato_mosaic_virus = '/content/drive/MyDrive/PlantDiseaseImgs/Tomato___Tomato_mosaic_virus'\n",
        "\n",
        "Apple___Black_rot = [cv2.imread(image) for image in glob.glob(Apple___Black_rot)]\n",
        "Apple___healthy = [cv2.imread(image) for image in glob.glob(Apple___healthy)]\n",
        "Cherry____healthy = [cv2.imread(image) for image in glob.glob(Cherry____healthy)]\n",
        "Cherry____Powdery_mildew = [cv2.imread(image) for image in glob.glob(Cherry____Powdery_mildew)]\n",
        "Corn____healthy = [cv2.imread(image) for image in glob.glob(Corn____healthy)]\n",
        "Corn____Northern_Leaf_Blight  = [cv2.imread(image) for image in glob.glob(Corn____Northern_Leaf_Blight)]\n",
        "Grape___Black_rot = [cv2.imread(image) for image in glob.glob(Grape___Black_rot)]\n",
        "Grape___healthy = [cv2.imread(image) for image in glob.glob(Grape___healthy)]\n",
        "Potato___Early_blight = [cv2.imread(image) for image in glob.glob(Potato___Early_blight)]\n",
        "Potato___healthy = [cv2.imread(image) for image in glob.glob(Potato___healthy)]\n",
        "Tomato___Bacterial_spot = [cv2.imread(image) for image in glob.glob(Tomato___Bacterial_spot)]\n",
        "Tomato___healthy = [cv2.imread(image) for image in glob.glob(Tomato___healthy)]\n",
        "Tomato___Tomato_mosaic_virus = [cv2.imread(image) for image in glob.glob(Tomato___Tomato_mosaic_virus)]\n",
        "\n",
        "train_dataset = tf.keras.utils.image_dataset_from_directory(\n",
        "    '/content/drive/MyDrive/PlantDiseaseImgs',\n",
        "    validation_split = 0.2,\n",
        "    subset = \"training\",\n",
        "    seed = 24,  \n",
        "    image_size = (256, 256),\n",
        "    batch_size = 64\n",
        ")\n",
        "\n",
        "val_dataset = tf.keras.utils.image_dataset_from_directory(\n",
        "    '/content/drive/MyDrive/PlantDiseaseImgs',\n",
        "    validation_split = 0.2,\n",
        "    subset = \"validation\",\n",
        "    seed = 24,  \n",
        "    image_size = (256, 256),\n",
        "    batch_size = 64\n",
        ")\n",
        "\n",
        "\n",
        "\n",
        "\n",
        "\n",
        "train_dataset = train_dataset.cache().shuffle(13).prefetch(buffer_size = tf.data.AUTOTUNE)\n",
        "val_dataset = val_dataset.cache().shuffle(13).prefetch(buffer_size = tf.data.AUTOTUNE)\n"
      ],
      "metadata": {
        "colab": {
          "base_uri": "https://localhost:8080/"
        },
        "id": "ULsUt1M8MwrO",
        "outputId": "ea70533e-2b43-4915-d55c-388b5ce83591"
      },
      "execution_count": 12,
      "outputs": [
        {
          "output_type": "stream",
          "name": "stdout",
          "text": [
            "Found 2430 files belonging to 13 classes.\n",
            "Using 1944 files for training.\n",
            "Found 2430 files belonging to 13 classes.\n",
            "Using 486 files for validation.\n"
          ]
        }
      ]
    },
    {
      "cell_type": "markdown",
      "source": [
        "##Model\n",
        "\n"
      ],
      "metadata": {
        "id": "8O4u8a0WmOkD"
      }
    },
    {
      "cell_type": "code",
      "source": [
        "\n",
        "model = Sequential ([\n",
        "    \n",
        "    \n",
        "    layers.Rescaling(1/255, input_shape = (256, 256, 3)),\n",
        "    layers.Conv2D(32, 3, padding = 'same', activation = 'relu'),\n",
        "    layers.MaxPooling2D(),\n",
        "    layers.Dropout(0.2),\n",
        "    layers.Conv2D(64, 3, padding = 'same', activation = 'relu'),\n",
        "    layers.MaxPooling2D(),\n",
        "    layers.Dropout(0.2),\n",
        "    layers.Conv2D(64, 3, padding = 'same', activation = 'relu'),\n",
        "    layers.MaxPooling2D(),\n",
        "    layers.Dropout(0.2),\n",
        "    layers.Conv2D(32, 3, padding = 'same', activation = 'relu'),\n",
        "    layers.MaxPooling2D(),\n",
        "    layers.Dropout(0.2),\n",
        "    layers.Flatten(),\n",
        "    layers.Dense(128, activation = 'relu'),\n",
        "    layers.Dense(13, activation = 'softmax')\n",
        "])\n",
        "model.summary()\n",
        "'''\n",
        "\n",
        "model = Sequential ([\n",
        "    layers.Rescaling(1./255, input_shape = (227, 227, 3)),\n",
        "    layers.Conv2D(16, 3, padding = 'same', activation = 'relu'),\n",
        "    layers.MaxPooling2D(),\n",
        "    layers.Conv2D(32, 3, padding = 'same', activation = 'relu'),\n",
        "    layers.MaxPooling2D(),\n",
        "    layers.Conv2D(64, 3, padding = 'same', activation = 'relu'),\n",
        "    layers.MaxPooling2D(),\n",
        "    layers.Flatten(),\n",
        "    layers.Dense(128, activation = 'relu'),\n",
        "    layers.Dense(2)\n",
        "])\n",
        "\n",
        "model.compile(optimizer = 'adam', loss = tf.keras.losses.SparseCategoricalCrossentropy(from_logits = True), metrics = ['accuracy'])\n",
        "\n",
        "model.fit (\n",
        "    train_dataset, \n",
        "    validation_data = val_dataset,\n",
        "    epochs = 70\n",
        ")\n",
        "model.save('PlantDocModel.h5')\n",
        "'''"
      ],
      "metadata": {
        "colab": {
          "base_uri": "https://localhost:8080/",
          "height": 929
        },
        "id": "ZF96cNbCmNid",
        "outputId": "6c22f45c-ae77-4a68-977a-b5735358985e"
      },
      "execution_count": 16,
      "outputs": [
        {
          "output_type": "stream",
          "name": "stdout",
          "text": [
            "Model: \"sequential_3\"\n",
            "_________________________________________________________________\n",
            " Layer (type)                Output Shape              Param #   \n",
            "=================================================================\n",
            " rescaling_3 (Rescaling)     (None, 256, 256, 3)       0         \n",
            "                                                                 \n",
            " conv2d_9 (Conv2D)           (None, 256, 256, 32)      896       \n",
            "                                                                 \n",
            " max_pooling2d_9 (MaxPooling  (None, 128, 128, 32)     0         \n",
            " 2D)                                                             \n",
            "                                                                 \n",
            " dropout_9 (Dropout)         (None, 128, 128, 32)      0         \n",
            "                                                                 \n",
            " conv2d_10 (Conv2D)          (None, 128, 128, 64)      18496     \n",
            "                                                                 \n",
            " max_pooling2d_10 (MaxPoolin  (None, 64, 64, 64)       0         \n",
            " g2D)                                                            \n",
            "                                                                 \n",
            " dropout_10 (Dropout)        (None, 64, 64, 64)        0         \n",
            "                                                                 \n",
            " conv2d_11 (Conv2D)          (None, 64, 64, 64)        36928     \n",
            "                                                                 \n",
            " max_pooling2d_11 (MaxPoolin  (None, 32, 32, 64)       0         \n",
            " g2D)                                                            \n",
            "                                                                 \n",
            " dropout_11 (Dropout)        (None, 32, 32, 64)        0         \n",
            "                                                                 \n",
            " conv2d_12 (Conv2D)          (None, 32, 32, 32)        18464     \n",
            "                                                                 \n",
            " max_pooling2d_12 (MaxPoolin  (None, 16, 16, 32)       0         \n",
            " g2D)                                                            \n",
            "                                                                 \n",
            " dropout_12 (Dropout)        (None, 16, 16, 32)        0         \n",
            "                                                                 \n",
            " flatten_3 (Flatten)         (None, 8192)              0         \n",
            "                                                                 \n",
            " dense_6 (Dense)             (None, 128)               1048704   \n",
            "                                                                 \n",
            " dense_7 (Dense)             (None, 13)                1677      \n",
            "                                                                 \n",
            "=================================================================\n",
            "Total params: 1,125,165\n",
            "Trainable params: 1,125,165\n",
            "Non-trainable params: 0\n",
            "_________________________________________________________________\n"
          ]
        },
        {
          "output_type": "execute_result",
          "data": {
            "text/plain": [
              "\"\\n\\nmodel = Sequential ([\\n    layers.Rescaling(1./255, input_shape = (227, 227, 3)),\\n    layers.Conv2D(16, 3, padding = 'same', activation = 'relu'),\\n    layers.MaxPooling2D(),\\n    layers.Conv2D(32, 3, padding = 'same', activation = 'relu'),\\n    layers.MaxPooling2D(),\\n    layers.Conv2D(64, 3, padding = 'same', activation = 'relu'),\\n    layers.MaxPooling2D(),\\n    layers.Flatten(),\\n    layers.Dense(128, activation = 'relu'),\\n    layers.Dense(2)\\n])\\n\\nmodel.compile(optimizer = 'adam', loss = tf.keras.losses.SparseCategoricalCrossentropy(from_logits = True), metrics = ['accuracy'])\\n\\nmodel.fit (\\n    train_dataset, \\n    validation_data = val_dataset,\\n    epochs = 70\\n)\\nmodel.save('PlantDocModel.h5')\\n\""
            ],
            "application/vnd.google.colaboratory.intrinsic+json": {
              "type": "string"
            }
          },
          "metadata": {},
          "execution_count": 16
        }
      ]
    },
    {
      "cell_type": "code",
      "source": [
        "model.compile(optimizer = 'adam', loss = tf.keras.losses.SparseCategoricalCrossentropy(from_logits = True), metrics = ['accuracy'])\n",
        "'''\n",
        "model.compile(\n",
        "    loss='sparse_categorical_crossentropy',\n",
        "    optimizer=keras.optimizers.Adam(learning_rate=1e-4),\n",
        "    metrics=['accuracy'],  run_eagerly=True\n",
        ")\n",
        "\n",
        "'''\n",
        "model.fit (\n",
        "    train_dataset, \n",
        "    validation_data = val_dataset,\n",
        "    epochs = 90\n",
        ")\n"
      ],
      "metadata": {
        "colab": {
          "base_uri": "https://localhost:8080/"
        },
        "id": "4CaGQFS2Hlk6",
        "outputId": "3724c47b-a754-49b8-ac96-fdba1dd2693e"
      },
      "execution_count": 17,
      "outputs": [
        {
          "output_type": "stream",
          "name": "stdout",
          "text": [
            "Epoch 1/90\n",
            "31/31 [==============================] - 37s 235ms/step - loss: 1.8741 - accuracy: 0.5360 - val_loss: 2.0212 - val_accuracy: 0.5947\n",
            "Epoch 2/90\n",
            "31/31 [==============================] - 7s 217ms/step - loss: 1.5703 - accuracy: 0.5612 - val_loss: 1.5010 - val_accuracy: 0.6070\n",
            "Epoch 3/90\n",
            "31/31 [==============================] - 7s 215ms/step - loss: 1.2006 - accuracy: 0.6193 - val_loss: 1.0924 - val_accuracy: 0.6831\n",
            "Epoch 4/90\n",
            "31/31 [==============================] - 7s 218ms/step - loss: 0.8553 - accuracy: 0.7310 - val_loss: 0.9680 - val_accuracy: 0.7243\n",
            "Epoch 5/90\n",
            "31/31 [==============================] - 7s 216ms/step - loss: 0.5961 - accuracy: 0.8107 - val_loss: 0.8207 - val_accuracy: 0.7819\n",
            "Epoch 6/90\n",
            "31/31 [==============================] - 7s 224ms/step - loss: 0.4543 - accuracy: 0.8493 - val_loss: 0.6630 - val_accuracy: 0.8251\n",
            "Epoch 7/90\n",
            "31/31 [==============================] - 7s 217ms/step - loss: 0.2746 - accuracy: 0.9074 - val_loss: 0.6521 - val_accuracy: 0.8539\n",
            "Epoch 8/90\n",
            "31/31 [==============================] - 7s 219ms/step - loss: 0.2507 - accuracy: 0.9172 - val_loss: 0.6443 - val_accuracy: 0.8457\n",
            "Epoch 9/90\n",
            "31/31 [==============================] - 7s 217ms/step - loss: 0.1713 - accuracy: 0.9439 - val_loss: 0.5987 - val_accuracy: 0.8868\n",
            "Epoch 10/90\n",
            "31/31 [==============================] - 7s 220ms/step - loss: 0.1318 - accuracy: 0.9552 - val_loss: 0.7308 - val_accuracy: 0.8498\n",
            "Epoch 11/90\n",
            "31/31 [==============================] - 7s 217ms/step - loss: 0.1038 - accuracy: 0.9655 - val_loss: 0.7369 - val_accuracy: 0.8601\n",
            "Epoch 12/90\n",
            "31/31 [==============================] - 7s 218ms/step - loss: 0.1310 - accuracy: 0.9630 - val_loss: 0.5672 - val_accuracy: 0.8663\n",
            "Epoch 13/90\n",
            "31/31 [==============================] - 7s 217ms/step - loss: 0.0688 - accuracy: 0.9769 - val_loss: 0.6755 - val_accuracy: 0.8539\n",
            "Epoch 14/90\n",
            "31/31 [==============================] - 7s 220ms/step - loss: 0.0600 - accuracy: 0.9835 - val_loss: 0.6146 - val_accuracy: 0.9033\n",
            "Epoch 15/90\n",
            "31/31 [==============================] - 7s 219ms/step - loss: 0.0254 - accuracy: 0.9933 - val_loss: 0.5784 - val_accuracy: 0.8992\n",
            "Epoch 16/90\n",
            "31/31 [==============================] - 7s 220ms/step - loss: 0.0264 - accuracy: 0.9897 - val_loss: 0.6853 - val_accuracy: 0.8971\n",
            "Epoch 17/90\n",
            "31/31 [==============================] - 7s 218ms/step - loss: 0.0541 - accuracy: 0.9841 - val_loss: 0.7736 - val_accuracy: 0.8477\n",
            "Epoch 18/90\n",
            "31/31 [==============================] - 7s 217ms/step - loss: 0.0514 - accuracy: 0.9861 - val_loss: 0.6936 - val_accuracy: 0.8827\n",
            "Epoch 19/90\n",
            "31/31 [==============================] - 7s 216ms/step - loss: 0.0728 - accuracy: 0.9748 - val_loss: 0.8016 - val_accuracy: 0.8704\n",
            "Epoch 20/90\n",
            "31/31 [==============================] - 7s 216ms/step - loss: 0.0734 - accuracy: 0.9799 - val_loss: 0.6515 - val_accuracy: 0.8889\n",
            "Epoch 21/90\n",
            "31/31 [==============================] - 7s 214ms/step - loss: 0.0313 - accuracy: 0.9918 - val_loss: 0.9885 - val_accuracy: 0.8745\n",
            "Epoch 22/90\n",
            "31/31 [==============================] - 7s 216ms/step - loss: 0.0220 - accuracy: 0.9933 - val_loss: 0.6868 - val_accuracy: 0.9012\n",
            "Epoch 23/90\n",
            "31/31 [==============================] - 7s 217ms/step - loss: 0.0075 - accuracy: 0.9969 - val_loss: 0.7265 - val_accuracy: 0.9033\n",
            "Epoch 24/90\n",
            "31/31 [==============================] - 7s 219ms/step - loss: 0.0043 - accuracy: 0.9990 - val_loss: 0.7880 - val_accuracy: 0.8909\n",
            "Epoch 25/90\n",
            "31/31 [==============================] - 7s 218ms/step - loss: 0.0043 - accuracy: 0.9985 - val_loss: 0.8647 - val_accuracy: 0.9177\n",
            "Epoch 26/90\n",
            "31/31 [==============================] - 7s 219ms/step - loss: 0.0146 - accuracy: 0.9954 - val_loss: 0.6630 - val_accuracy: 0.9218\n",
            "Epoch 27/90\n",
            "31/31 [==============================] - 7s 217ms/step - loss: 0.0201 - accuracy: 0.9938 - val_loss: 0.7063 - val_accuracy: 0.8889\n",
            "Epoch 28/90\n",
            "31/31 [==============================] - 7s 216ms/step - loss: 0.0679 - accuracy: 0.9825 - val_loss: 0.8328 - val_accuracy: 0.8724\n",
            "Epoch 29/90\n",
            "31/31 [==============================] - 7s 215ms/step - loss: 0.0505 - accuracy: 0.9856 - val_loss: 0.6585 - val_accuracy: 0.9033\n",
            "Epoch 30/90\n",
            "31/31 [==============================] - 7s 217ms/step - loss: 0.0326 - accuracy: 0.9887 - val_loss: 0.7088 - val_accuracy: 0.8868\n",
            "Epoch 31/90\n",
            "31/31 [==============================] - 7s 215ms/step - loss: 0.0171 - accuracy: 0.9969 - val_loss: 0.7326 - val_accuracy: 0.8951\n",
            "Epoch 32/90\n",
            "31/31 [==============================] - 7s 217ms/step - loss: 0.0040 - accuracy: 0.9995 - val_loss: 0.7215 - val_accuracy: 0.9053\n",
            "Epoch 33/90\n",
            "31/31 [==============================] - 7s 215ms/step - loss: 0.0021 - accuracy: 0.9995 - val_loss: 0.7033 - val_accuracy: 0.9177\n",
            "Epoch 34/90\n",
            "31/31 [==============================] - 7s 218ms/step - loss: 0.0058 - accuracy: 0.9979 - val_loss: 0.7713 - val_accuracy: 0.9012\n",
            "Epoch 35/90\n",
            "31/31 [==============================] - 7s 215ms/step - loss: 0.0022 - accuracy: 0.9995 - val_loss: 0.7217 - val_accuracy: 0.9136\n",
            "Epoch 36/90\n",
            "31/31 [==============================] - 7s 218ms/step - loss: 0.0021 - accuracy: 0.9995 - val_loss: 0.6982 - val_accuracy: 0.8971\n",
            "Epoch 37/90\n",
            "31/31 [==============================] - 7s 216ms/step - loss: 0.0108 - accuracy: 0.9954 - val_loss: 0.7005 - val_accuracy: 0.8930\n",
            "Epoch 38/90\n",
            "31/31 [==============================] - 7s 230ms/step - loss: 0.0212 - accuracy: 0.9943 - val_loss: 0.6385 - val_accuracy: 0.9177\n",
            "Epoch 39/90\n",
            "31/31 [==============================] - 7s 216ms/step - loss: 0.0263 - accuracy: 0.9943 - val_loss: 0.7753 - val_accuracy: 0.8889\n",
            "Epoch 40/90\n",
            "31/31 [==============================] - 7s 215ms/step - loss: 0.0280 - accuracy: 0.9918 - val_loss: 0.6688 - val_accuracy: 0.9074\n",
            "Epoch 41/90\n",
            "31/31 [==============================] - 7s 214ms/step - loss: 0.0291 - accuracy: 0.9913 - val_loss: 1.0063 - val_accuracy: 0.7675\n",
            "Epoch 42/90\n",
            "31/31 [==============================] - 7s 211ms/step - loss: 0.0887 - accuracy: 0.9707 - val_loss: 0.5592 - val_accuracy: 0.8951\n",
            "Epoch 43/90\n",
            "31/31 [==============================] - 7s 214ms/step - loss: 0.0130 - accuracy: 0.9943 - val_loss: 0.6312 - val_accuracy: 0.9218\n",
            "Epoch 44/90\n",
            "31/31 [==============================] - 7s 213ms/step - loss: 0.0042 - accuracy: 0.9985 - val_loss: 0.6492 - val_accuracy: 0.9115\n",
            "Epoch 45/90\n",
            "31/31 [==============================] - 7s 215ms/step - loss: 0.0015 - accuracy: 1.0000 - val_loss: 0.6456 - val_accuracy: 0.9095\n",
            "Epoch 46/90\n",
            "31/31 [==============================] - 7s 214ms/step - loss: 0.0025 - accuracy: 0.9990 - val_loss: 0.9807 - val_accuracy: 0.8786\n",
            "Epoch 47/90\n",
            "31/31 [==============================] - 7s 216ms/step - loss: 0.0047 - accuracy: 0.9985 - val_loss: 0.5564 - val_accuracy: 0.9095\n",
            "Epoch 48/90\n",
            "31/31 [==============================] - 7s 216ms/step - loss: 0.0027 - accuracy: 0.9985 - val_loss: 0.7073 - val_accuracy: 0.9259\n",
            "Epoch 49/90\n",
            "31/31 [==============================] - 7s 214ms/step - loss: 0.0029 - accuracy: 0.9985 - val_loss: 0.6142 - val_accuracy: 0.9239\n",
            "Epoch 50/90\n",
            "31/31 [==============================] - 7s 215ms/step - loss: 0.0062 - accuracy: 0.9964 - val_loss: 0.7921 - val_accuracy: 0.9033\n",
            "Epoch 51/90\n",
            "31/31 [==============================] - 7s 214ms/step - loss: 0.0095 - accuracy: 0.9954 - val_loss: 0.7021 - val_accuracy: 0.9136\n",
            "Epoch 52/90\n",
            "31/31 [==============================] - 7s 214ms/step - loss: 0.0308 - accuracy: 0.9897 - val_loss: 0.6622 - val_accuracy: 0.9053\n",
            "Epoch 53/90\n",
            "31/31 [==============================] - 7s 213ms/step - loss: 0.0064 - accuracy: 0.9990 - val_loss: 0.5775 - val_accuracy: 0.9198\n",
            "Epoch 54/90\n",
            "31/31 [==============================] - 7s 215ms/step - loss: 0.0038 - accuracy: 0.9990 - val_loss: 0.6948 - val_accuracy: 0.9115\n",
            "Epoch 55/90\n",
            "31/31 [==============================] - 7s 214ms/step - loss: 0.0085 - accuracy: 0.9979 - val_loss: 0.7167 - val_accuracy: 0.8971\n",
            "Epoch 56/90\n",
            "31/31 [==============================] - 7s 214ms/step - loss: 0.0121 - accuracy: 0.9954 - val_loss: 0.8320 - val_accuracy: 0.9115\n",
            "Epoch 57/90\n",
            "31/31 [==============================] - 7s 213ms/step - loss: 0.0290 - accuracy: 0.9907 - val_loss: 0.7986 - val_accuracy: 0.8848\n",
            "Epoch 58/90\n",
            "31/31 [==============================] - 7s 213ms/step - loss: 0.0198 - accuracy: 0.9933 - val_loss: 0.8825 - val_accuracy: 0.8992\n",
            "Epoch 59/90\n",
            "31/31 [==============================] - 7s 213ms/step - loss: 0.0060 - accuracy: 0.9985 - val_loss: 0.5699 - val_accuracy: 0.9177\n",
            "Epoch 60/90\n",
            "31/31 [==============================] - 7s 214ms/step - loss: 0.0060 - accuracy: 0.9979 - val_loss: 0.5587 - val_accuracy: 0.9198\n",
            "Epoch 61/90\n",
            "31/31 [==============================] - 7s 212ms/step - loss: 0.0300 - accuracy: 0.9887 - val_loss: 0.7602 - val_accuracy: 0.8848\n",
            "Epoch 62/90\n",
            "31/31 [==============================] - 7s 210ms/step - loss: 0.0292 - accuracy: 0.9907 - val_loss: 0.7113 - val_accuracy: 0.8827\n",
            "Epoch 63/90\n",
            "31/31 [==============================] - 7s 211ms/step - loss: 0.0163 - accuracy: 0.9938 - val_loss: 0.6310 - val_accuracy: 0.8868\n",
            "Epoch 64/90\n",
            "31/31 [==============================] - 7s 212ms/step - loss: 0.0153 - accuracy: 0.9959 - val_loss: 0.8813 - val_accuracy: 0.8724\n",
            "Epoch 65/90\n",
            "31/31 [==============================] - 7s 211ms/step - loss: 0.0164 - accuracy: 0.9949 - val_loss: 0.6748 - val_accuracy: 0.9095\n",
            "Epoch 66/90\n",
            "31/31 [==============================] - 7s 213ms/step - loss: 0.0194 - accuracy: 0.9949 - val_loss: 0.8080 - val_accuracy: 0.8848\n",
            "Epoch 67/90\n",
            "31/31 [==============================] - 7s 211ms/step - loss: 0.0157 - accuracy: 0.9928 - val_loss: 0.7213 - val_accuracy: 0.8930\n",
            "Epoch 68/90\n",
            "31/31 [==============================] - 7s 211ms/step - loss: 0.0095 - accuracy: 0.9959 - val_loss: 0.7190 - val_accuracy: 0.8971\n",
            "Epoch 69/90\n",
            "31/31 [==============================] - 7s 213ms/step - loss: 0.0073 - accuracy: 0.9974 - val_loss: 0.9044 - val_accuracy: 0.8992\n",
            "Epoch 70/90\n",
            "31/31 [==============================] - 7s 210ms/step - loss: 0.0191 - accuracy: 0.9933 - val_loss: 0.6294 - val_accuracy: 0.8889\n",
            "Epoch 71/90\n",
            "31/31 [==============================] - 7s 212ms/step - loss: 0.0123 - accuracy: 0.9954 - val_loss: 0.7090 - val_accuracy: 0.9074\n",
            "Epoch 72/90\n",
            "31/31 [==============================] - 7s 214ms/step - loss: 0.0091 - accuracy: 0.9985 - val_loss: 0.4713 - val_accuracy: 0.9403\n",
            "Epoch 73/90\n",
            "31/31 [==============================] - 7s 211ms/step - loss: 0.0054 - accuracy: 0.9985 - val_loss: 0.5949 - val_accuracy: 0.9156\n",
            "Epoch 74/90\n",
            "31/31 [==============================] - 7s 213ms/step - loss: 0.0015 - accuracy: 0.9990 - val_loss: 0.7627 - val_accuracy: 0.9156\n",
            "Epoch 75/90\n",
            "31/31 [==============================] - 7s 213ms/step - loss: 7.9549e-04 - accuracy: 1.0000 - val_loss: 0.5985 - val_accuracy: 0.9300\n",
            "Epoch 76/90\n",
            "31/31 [==============================] - 7s 214ms/step - loss: 1.3513e-04 - accuracy: 1.0000 - val_loss: 0.6005 - val_accuracy: 0.9259\n",
            "Epoch 77/90\n",
            "31/31 [==============================] - 7s 211ms/step - loss: 0.0418 - accuracy: 0.9938 - val_loss: 1.1042 - val_accuracy: 0.8313\n",
            "Epoch 78/90\n",
            "31/31 [==============================] - 6s 208ms/step - loss: 0.0796 - accuracy: 0.9738 - val_loss: 0.5340 - val_accuracy: 0.9033\n",
            "Epoch 79/90\n",
            "31/31 [==============================] - 7s 209ms/step - loss: 0.0251 - accuracy: 0.9938 - val_loss: 0.8180 - val_accuracy: 0.8889\n",
            "Epoch 80/90\n",
            "31/31 [==============================] - 6s 208ms/step - loss: 0.0150 - accuracy: 0.9949 - val_loss: 0.7434 - val_accuracy: 0.8992\n",
            "Epoch 81/90\n",
            "31/31 [==============================] - 7s 212ms/step - loss: 0.0138 - accuracy: 0.9959 - val_loss: 0.8722 - val_accuracy: 0.8786\n",
            "Epoch 82/90\n",
            "31/31 [==============================] - 7s 210ms/step - loss: 0.0385 - accuracy: 0.9918 - val_loss: 0.5707 - val_accuracy: 0.8992\n",
            "Epoch 83/90\n",
            "31/31 [==============================] - 6s 208ms/step - loss: 0.0222 - accuracy: 0.9928 - val_loss: 0.5831 - val_accuracy: 0.9156\n",
            "Epoch 84/90\n",
            "31/31 [==============================] - 6s 208ms/step - loss: 0.0064 - accuracy: 0.9979 - val_loss: 0.5960 - val_accuracy: 0.8992\n",
            "Epoch 85/90\n",
            "31/31 [==============================] - 6s 208ms/step - loss: 0.0021 - accuracy: 0.9995 - val_loss: 0.6058 - val_accuracy: 0.9156\n",
            "Epoch 86/90\n",
            "31/31 [==============================] - 6s 210ms/step - loss: 0.0050 - accuracy: 0.9985 - val_loss: 0.5631 - val_accuracy: 0.9280\n",
            "Epoch 87/90\n",
            "31/31 [==============================] - 6s 208ms/step - loss: 0.0062 - accuracy: 0.9985 - val_loss: 0.7811 - val_accuracy: 0.9074\n",
            "Epoch 88/90\n",
            "31/31 [==============================] - 6s 208ms/step - loss: 5.1520e-04 - accuracy: 1.0000 - val_loss: 0.6894 - val_accuracy: 0.9115\n",
            "Epoch 89/90\n",
            "31/31 [==============================] - 7s 209ms/step - loss: 0.0020 - accuracy: 0.9990 - val_loss: 0.8129 - val_accuracy: 0.8930\n",
            "Epoch 90/90\n",
            "31/31 [==============================] - 6s 209ms/step - loss: 0.0027 - accuracy: 0.9995 - val_loss: 0.7077 - val_accuracy: 0.8930\n"
          ]
        },
        {
          "output_type": "execute_result",
          "data": {
            "text/plain": [
              "<keras.callbacks.History at 0x7fdd502c6b20>"
            ]
          },
          "metadata": {},
          "execution_count": 17
        }
      ]
    },
    {
      "cell_type": "markdown",
      "source": [
        "##Evaluate Performance"
      ],
      "metadata": {
        "id": "K_bC_SbYmdUq"
      }
    },
    {
      "cell_type": "code",
      "source": [
        "loss = pd.DataFrame(model.history.history) \n",
        "plt.figure(figsize=(10,10))\n",
        "\n",
        "plt.subplot(2,2,1)\n",
        "plt.plot(loss[\"loss\"], label =\"Loss\")\n",
        "plt.plot(loss[\"val_loss\"], label = \"Validation_loss\")\n",
        "plt.legend()\n",
        "plt.title(\"Training and Validation Loss\")\n",
        "\n",
        "plt.subplot(2,2,2)\n",
        "plt.plot(loss['accuracy'],label = \"Training Accuracy\")\n",
        "plt.plot(loss['val_accuracy'], label =\"Validation_ Accuracy \")\n",
        "plt.legend()\n",
        "plt.title(\"Training-Validation Accuracy\")"
      ],
      "metadata": {
        "colab": {
          "base_uri": "https://localhost:8080/",
          "height": 329
        },
        "id": "JvWzB_usAAvy",
        "outputId": "24d45197-3dcf-4dbc-e9b2-41cb36c96490"
      },
      "execution_count": 10,
      "outputs": [
        {
          "output_type": "execute_result",
          "data": {
            "text/plain": [
              "Text(0.5, 1.0, 'Training-Validation Accuracy')"
            ]
          },
          "metadata": {},
          "execution_count": 10
        },
        {
          "output_type": "display_data",
          "data": {
            "text/plain": [
              "<Figure size 720x720 with 2 Axes>"
            ],
            "image/png": "[encoded data removed]"
          },
          "metadata": {
            "needs_background": "light"
          }
        }
      ]
    },
    {
      "cell_type": "markdown",
      "source": [
        "##Save Model For Web Application Deployment"
      ],
      "metadata": {
        "id": "lBtZzn4796LT"
      }
    },
    {
      "cell_type": "code",
      "source": [
        "model.save('PlantDocModel2.h5')\n"
      ],
      "metadata": {
        "id": "JinQv_JF94Ha"
      },
      "execution_count": 18,
      "outputs": []
    },
    {
      "cell_type": "markdown",
      "source": [
        "##Streamlit installations"
      ],
      "metadata": {
        "id": "VWDr59ukqVd3"
      }
    },
    {
      "cell_type": "code",
      "source": [
        "!pip install --upgrade google-api-python-client google-auth-httplib2 google-auth-oauthlib\n",
        "!pip install st-btn-select"
      ],
      "metadata": {
        "colab": {
          "base_uri": "https://localhost:8080/"
        },
        "id": "sd-Vt7VZqYRk",
        "outputId": "81b6f743-9fb7-49fa-8a69-0f8694322a08"
      },
      "execution_count": 19,
      "outputs": [
        {
          "output_type": "stream",
          "name": "stdout",
          "text": [
            "Looking in indexes: https://pypi.org/simple, https://us-python.pkg.dev/colab-wheels/public/simple/\n",
            "Requirement already satisfied: google-api-python-client in /usr/local/lib/python3.8/dist-packages (2.70.0)\n",
            "Collecting google-api-python-client\n",
            "  Downloading google_api_python_client-2.78.0-py2.py3-none-any.whl (11.0 MB)\n",
            "\u001b[2K     \u001b[90m━━━━━━━━━━━━━━━━━━━━━━━━━━━━━━━━━━━━━━━━\u001b[0m \u001b[32m11.0/11.0 MB\u001b[0m \u001b[31m84.6 MB/s\u001b[0m eta \u001b[36m0:00:00\u001b[0m\n",
            "\u001b[?25hRequirement already satisfied: google-auth-httplib2 in /usr/local/lib/python3.8/dist-packages (0.1.0)\n",
            "Requirement already satisfied: google-auth-oauthlib in /usr/local/lib/python3.8/dist-packages (0.4.6)\n",
            "Collecting google-auth-oauthlib\n",
            "  Downloading google_auth_oauthlib-1.0.0-py2.py3-none-any.whl (18 kB)\n",
            "Requirement already satisfied: google-api-core!=2.0.*,!=2.1.*,!=2.2.*,!=2.3.0,<3.0.0dev,>=1.31.5 in /usr/local/lib/python3.8/dist-packages (from google-api-python-client) (2.11.0)\n",
            "Requirement already satisfied: uritemplate<5,>=3.0.1 in /usr/local/lib/python3.8/dist-packages (from google-api-python-client) (4.1.1)\n",
            "Requirement already satisfied: google-auth<3.0.0dev,>=1.19.0 in /usr/local/lib/python3.8/dist-packages (from google-api-python-client) (2.16.0)\n",
            "Requirement already satisfied: httplib2<1dev,>=0.15.0 in /usr/local/lib/python3.8/dist-packages (from google-api-python-client) (0.17.4)\n",
            "Requirement already satisfied: six in /usr/local/lib/python3.8/dist-packages (from google-auth-httplib2) (1.15.0)\n",
            "Requirement already satisfied: requests-oauthlib>=0.7.0 in /usr/local/lib/python3.8/dist-packages (from google-auth-oauthlib) (1.3.1)\n",
            "Requirement already satisfied: googleapis-common-protos<2.0dev,>=1.56.2 in /usr/local/lib/python3.8/dist-packages (from google-api-core!=2.0.*,!=2.1.*,!=2.2.*,!=2.3.0,<3.0.0dev,>=1.31.5->google-api-python-client) (1.58.0)\n",
            "Requirement already satisfied: protobuf!=3.20.0,!=3.20.1,!=4.21.0,!=4.21.1,!=4.21.2,!=4.21.3,!=4.21.4,!=4.21.5,<5.0.0dev,>=3.19.5 in /usr/local/lib/python3.8/dist-packages (from google-api-core!=2.0.*,!=2.1.*,!=2.2.*,!=2.3.0,<3.0.0dev,>=1.31.5->google-api-python-client) (3.19.6)\n",
            "Requirement already satisfied: requests<3.0.0dev,>=2.18.0 in /usr/local/lib/python3.8/dist-packages (from google-api-core!=2.0.*,!=2.1.*,!=2.2.*,!=2.3.0,<3.0.0dev,>=1.31.5->google-api-python-client) (2.25.1)\n",
            "Requirement already satisfied: rsa<5,>=3.1.4 in /usr/local/lib/python3.8/dist-packages (from google-auth<3.0.0dev,>=1.19.0->google-api-python-client) (4.9)\n",
            "Requirement already satisfied: pyasn1-modules>=0.2.1 in /usr/local/lib/python3.8/dist-packages (from google-auth<3.0.0dev,>=1.19.0->google-api-python-client) (0.2.8)\n",
            "Requirement already satisfied: cachetools<6.0,>=2.0.0 in /usr/local/lib/python3.8/dist-packages (from google-auth<3.0.0dev,>=1.19.0->google-api-python-client) (5.3.0)\n",
            "Requirement already satisfied: oauthlib>=3.0.0 in /usr/local/lib/python3.8/dist-packages (from requests-oauthlib>=0.7.0->google-auth-oauthlib) (3.2.2)\n",
            "Requirement already satisfied: pyasn1<0.5.0,>=0.4.6 in /usr/local/lib/python3.8/dist-packages (from pyasn1-modules>=0.2.1->google-auth<3.0.0dev,>=1.19.0->google-api-python-client) (0.4.8)\n",
            "Requirement already satisfied: idna<3,>=2.5 in /usr/local/lib/python3.8/dist-packages (from requests<3.0.0dev,>=2.18.0->google-api-core!=2.0.*,!=2.1.*,!=2.2.*,!=2.3.0,<3.0.0dev,>=1.31.5->google-api-python-client) (2.10)\n",
            "Requirement already satisfied: chardet<5,>=3.0.2 in /usr/local/lib/python3.8/dist-packages (from requests<3.0.0dev,>=2.18.0->google-api-core!=2.0.*,!=2.1.*,!=2.2.*,!=2.3.0,<3.0.0dev,>=1.31.5->google-api-python-client) (4.0.0)\n",
            "Requirement already satisfied: certifi>=2017.4.17 in /usr/local/lib/python3.8/dist-packages (from requests<3.0.0dev,>=2.18.0->google-api-core!=2.0.*,!=2.1.*,!=2.2.*,!=2.3.0,<3.0.0dev,>=1.31.5->google-api-python-client) (2022.12.7)\n",
            "Requirement already satisfied: urllib3<1.27,>=1.21.1 in /usr/local/lib/python3.8/dist-packages (from requests<3.0.0dev,>=2.18.0->google-api-core!=2.0.*,!=2.1.*,!=2.2.*,!=2.3.0,<3.0.0dev,>=1.31.5->google-api-python-client) (1.24.3)\n",
            "Installing collected packages: google-auth-oauthlib, google-api-python-client\n",
            "  Attempting uninstall: google-auth-oauthlib\n",
            "    Found existing installation: google-auth-oauthlib 0.4.6\n",
            "    Uninstalling google-auth-oauthlib-0.4.6:\n",
            "      Successfully uninstalled google-auth-oauthlib-0.4.6\n",
            "  Attempting uninstall: google-api-python-client\n",
            "    Found existing installation: google-api-python-client 2.70.0\n",
            "    Uninstalling google-api-python-client-2.70.0:\n",
            "      Successfully uninstalled google-api-python-client-2.70.0\n",
            "\u001b[31mERROR: pip's dependency resolver does not currently take into account all the packages that are installed. This behaviour is the source of the following dependency conflicts.\n",
            "tensorboard 2.11.2 requires google-auth-oauthlib<0.5,>=0.4.1, but you have google-auth-oauthlib 1.0.0 which is incompatible.\u001b[0m\u001b[31m\n",
            "\u001b[0mSuccessfully installed google-api-python-client-2.78.0 google-auth-oauthlib-1.0.0\n",
            "Looking in indexes: https://pypi.org/simple, https://us-python.pkg.dev/colab-wheels/public/simple/\n",
            "Collecting st-btn-select\n",
            "  Downloading st_btn_select-0.1.2-py3-none-any.whl (503 kB)\n",
            "\u001b[2K     \u001b[90m━━━━━━━━━━━━━━━━━━━━━━━━━━━━━━━━━━━━━━\u001b[0m \u001b[32m503.4/503.4 KB\u001b[0m \u001b[31m10.6 MB/s\u001b[0m eta \u001b[36m0:00:00\u001b[0m\n",
            "\u001b[?25hCollecting streamlit>=0.63\n",
            "  Downloading streamlit-1.18.1-py2.py3-none-any.whl (9.6 MB)\n",
            "\u001b[2K     \u001b[90m━━━━━━━━━━━━━━━━━━━━━━━━━━━━━━━━━━━━━━━━\u001b[0m \u001b[32m9.6/9.6 MB\u001b[0m \u001b[31m52.3 MB/s\u001b[0m eta \u001b[36m0:00:00\u001b[0m\n",
            "\u001b[?25hRequirement already satisfied: tornado>=6.0.3 in /usr/local/lib/python3.8/dist-packages (from streamlit>=0.63->st-btn-select) (6.0.4)\n",
            "Collecting watchdog\n",
            "  Downloading watchdog-2.2.1-py3-none-manylinux2014_x86_64.whl (78 kB)\n",
            "\u001b[2K     \u001b[90m━━━━━━━━━━━━━━━━━━━━━━━━━━━━━━━━━━━━━━━━\u001b[0m \u001b[32m79.0/79.0 KB\u001b[0m \u001b[31m9.9 MB/s\u001b[0m eta \u001b[36m0:00:00\u001b[0m\n",
            "\u001b[?25hRequirement already satisfied: pandas>=0.25 in /usr/local/lib/python3.8/dist-packages (from streamlit>=0.63->st-btn-select) (1.3.5)\n",
            "Requirement already satisfied: numpy in /usr/local/lib/python3.8/dist-packages (from streamlit>=0.63->st-btn-select) (1.21.6)\n",
            "Requirement already satisfied: cachetools>=4.0 in /usr/local/lib/python3.8/dist-packages (from streamlit>=0.63->st-btn-select) (5.3.0)\n",
            "Collecting gitpython!=3.1.19\n",
            "  Downloading GitPython-3.1.30-py3-none-any.whl (184 kB)\n",
            "\u001b[2K     \u001b[90m━━━━━━━━━━━━━━━━━━━━━━━━━━━━━━━━━━━━━━\u001b[0m \u001b[32m184.0/184.0 KB\u001b[0m \u001b[31m21.3 MB/s\u001b[0m eta \u001b[36m0:00:00\u001b[0m\n",
            "\u001b[?25hRequirement already satisfied: pyarrow>=4.0 in /usr/local/lib/python3.8/dist-packages (from streamlit>=0.63->st-btn-select) (9.0.0)\n",
            "Requirement already satisfied: click>=7.0 in /usr/local/lib/python3.8/dist-packages (from streamlit>=0.63->st-btn-select) (7.1.2)\n",
            "Collecting rich>=10.11.0\n",
            "  Downloading rich-13.3.1-py3-none-any.whl (239 kB)\n",
            "\u001b[2K     \u001b[90m━━━━━━━━━━━━━━━━━━━━━━━━━━━━━━━━━━━━━━\u001b[0m \u001b[32m239.0/239.0 KB\u001b[0m \u001b[31m24.6 MB/s\u001b[0m eta \u001b[36m0:00:00\u001b[0m\n",
            "\u001b[?25hRequirement already satisfied: tzlocal>=1.1 in /usr/local/lib/python3.8/dist-packages (from streamlit>=0.63->st-btn-select) (1.5.1)\n",
            "Requirement already satisfied: python-dateutil in /usr/local/lib/python3.8/dist-packages (from streamlit>=0.63->st-btn-select) (2.8.2)\n",
            "Requirement already satisfied: packaging>=14.1 in /usr/local/lib/python3.8/dist-packages (from streamlit>=0.63->st-btn-select) (23.0)\n",
            "Requirement already satisfied: pillow>=6.2.0 in /usr/local/lib/python3.8/dist-packages (from streamlit>=0.63->st-btn-select) (7.1.2)\n",
            "Requirement already satisfied: typing-extensions>=3.10.0.0 in /usr/local/lib/python3.8/dist-packages (from streamlit>=0.63->st-btn-select) (4.4.0)\n",
            "Collecting validators>=0.2\n",
            "  Downloading validators-0.20.0.tar.gz (30 kB)\n",
            "  Preparing metadata (setup.py) ... \u001b[?25l\u001b[?25hdone\n",
            "Requirement already satisfied: requests>=2.4 in /usr/local/lib/python3.8/dist-packages (from streamlit>=0.63->st-btn-select) (2.25.1)\n",
            "Collecting blinker>=1.0.0\n",
            "  Downloading blinker-1.5-py2.py3-none-any.whl (12 kB)\n",
            "Requirement already satisfied: altair>=3.2.0 in /usr/local/lib/python3.8/dist-packages (from streamlit>=0.63->st-btn-select) (4.2.2)\n",
            "Collecting pympler>=0.9\n",
            "  Downloading Pympler-1.0.1-py3-none-any.whl (164 kB)\n",
            "\u001b[2K     \u001b[90m━━━━━━━━━━━━━━━━━━━━━━━━━━━━━━━━━━━━━━\u001b[0m \u001b[32m164.8/164.8 KB\u001b[0m \u001b[31m20.9 MB/s\u001b[0m eta \u001b[36m0:00:00\u001b[0m\n",
            "\u001b[?25hRequirement already satisfied: toml in /usr/local/lib/python3.8/dist-packages (from streamlit>=0.63->st-btn-select) (0.10.2)\n",
            "Collecting pydeck>=0.1.dev5\n",
            "  Downloading pydeck-0.8.0-py2.py3-none-any.whl (4.7 MB)\n",
            "\u001b[2K     \u001b[90m━━━━━━━━━━━━━━━━━━━━━━━━━━━━━━━━━━━━━━━━\u001b[0m \u001b[32m4.7/4.7 MB\u001b[0m \u001b[31m89.6 MB/s\u001b[0m eta \u001b[36m0:00:00\u001b[0m\n",
            "\u001b[?25hCollecting semver\n",
            "  Downloading semver-2.13.0-py2.py3-none-any.whl (12 kB)\n",
            "Requirement already satisfied: importlib-metadata>=1.4 in /usr/local/lib/python3.8/dist-packages (from streamlit>=0.63->st-btn-select) (6.0.0)\n",
            "Requirement already satisfied: protobuf<4,>=3.12 in /usr/local/lib/python3.8/dist-packages (from streamlit>=0.63->st-btn-select) (3.19.6)\n",
            "Requirement already satisfied: jsonschema>=3.0 in /usr/local/lib/python3.8/dist-packages (from altair>=3.2.0->streamlit>=0.63->st-btn-select) (4.3.3)\n",
            "Requirement already satisfied: jinja2 in /usr/local/lib/python3.8/dist-packages (from altair>=3.2.0->streamlit>=0.63->st-btn-select) (2.11.3)\n",
            "Requirement already satisfied: toolz in /usr/local/lib/python3.8/dist-packages (from altair>=3.2.0->streamlit>=0.63->st-btn-select) (0.12.0)\n",
            "Requirement already satisfied: entrypoints in /usr/local/lib/python3.8/dist-packages (from altair>=3.2.0->streamlit>=0.63->st-btn-select) (0.4)\n",
            "Collecting gitdb<5,>=4.0.1\n",
            "  Downloading gitdb-4.0.10-py3-none-any.whl (62 kB)\n",
            "\u001b[2K     \u001b[90m━━━━━━━━━━━━━━━━━━━━━━━━━━━━━━━━━━━━━━━━\u001b[0m \u001b[32m62.7/62.7 KB\u001b[0m \u001b[31m8.7 MB/s\u001b[0m eta \u001b[36m0:00:00\u001b[0m\n",
            "\u001b[?25hRequirement already satisfied: zipp>=0.5 in /usr/local/lib/python3.8/dist-packages (from importlib-metadata>=1.4->streamlit>=0.63->st-btn-select) (3.12.1)\n",
            "Requirement already satisfied: pytz>=2017.3 in /usr/local/lib/python3.8/dist-packages (from pandas>=0.25->streamlit>=0.63->st-btn-select) (2022.7.1)\n",
            "Requirement already satisfied: six>=1.5 in /usr/local/lib/python3.8/dist-packages (from python-dateutil->streamlit>=0.63->st-btn-select) (1.15.0)\n",
            "Requirement already satisfied: idna<3,>=2.5 in /usr/local/lib/python3.8/dist-packages (from requests>=2.4->streamlit>=0.63->st-btn-select) (2.10)\n",
            "Requirement already satisfied: urllib3<1.27,>=1.21.1 in /usr/local/lib/python3.8/dist-packages (from requests>=2.4->streamlit>=0.63->st-btn-select) (1.24.3)\n",
            "Requirement already satisfied: chardet<5,>=3.0.2 in /usr/local/lib/python3.8/dist-packages (from requests>=2.4->streamlit>=0.63->st-btn-select) (4.0.0)\n",
            "Requirement already satisfied: certifi>=2017.4.17 in /usr/local/lib/python3.8/dist-packages (from requests>=2.4->streamlit>=0.63->st-btn-select) (2022.12.7)\n",
            "Collecting pygments<3.0.0,>=2.14.0\n",
            "  Downloading Pygments-2.14.0-py3-none-any.whl (1.1 MB)\n",
            "\u001b[2K     \u001b[90m━━━━━━━━━━━━━━━━━━━━━━━━━━━━━━━━━━━━━━━━\u001b[0m \u001b[32m1.1/1.1 MB\u001b[0m \u001b[31m58.7 MB/s\u001b[0m eta \u001b[36m0:00:00\u001b[0m\n",
            "\u001b[?25hCollecting markdown-it-py<3.0.0,>=2.1.0\n",
            "  Downloading markdown_it_py-2.1.0-py3-none-any.whl (84 kB)\n",
            "\u001b[2K     \u001b[90m━━━━━━━━━━━━━━━━━━━━━━━━━━━━━━━━━━━━━━━━\u001b[0m \u001b[32m84.5/84.5 KB\u001b[0m \u001b[31m10.7 MB/s\u001b[0m eta \u001b[36m0:00:00\u001b[0m\n",
            "\u001b[?25hRequirement already satisfied: decorator>=3.4.0 in /usr/local/lib/python3.8/dist-packages (from validators>=0.2->streamlit>=0.63->st-btn-select) (4.4.2)\n",
            "Collecting smmap<6,>=3.0.1\n",
            "  Downloading smmap-5.0.0-py3-none-any.whl (24 kB)\n",
            "Requirement already satisfied: MarkupSafe>=0.23 in /usr/local/lib/python3.8/dist-packages (from jinja2->altair>=3.2.0->streamlit>=0.63->st-btn-select) (2.0.1)\n",
            "Requirement already satisfied: importlib-resources>=1.4.0 in /usr/local/lib/python3.8/dist-packages (from jsonschema>=3.0->altair>=3.2.0->streamlit>=0.63->st-btn-select) (5.10.2)\n",
            "Requirement already satisfied: pyrsistent!=0.17.0,!=0.17.1,!=0.17.2,>=0.14.0 in /usr/local/lib/python3.8/dist-packages (from jsonschema>=3.0->altair>=3.2.0->streamlit>=0.63->st-btn-select) (0.19.3)\n",
            "Requirement already satisfied: attrs>=17.4.0 in /usr/local/lib/python3.8/dist-packages (from jsonschema>=3.0->altair>=3.2.0->streamlit>=0.63->st-btn-select) (22.2.0)\n",
            "Collecting mdurl~=0.1\n",
            "  Downloading mdurl-0.1.2-py3-none-any.whl (10.0 kB)\n",
            "Building wheels for collected packages: validators\n",
            "  Building wheel for validators (setup.py) ... \u001b[?25l\u001b[?25hdone\n",
            "  Created wheel for validators: filename=validators-0.20.0-py3-none-any.whl size=19581 sha256=ba6b5ff0443fd9501e8db60429c4775e5ec000a1553eab38104d0601039d845f\n",
            "  Stored in directory: /root/.cache/pip/wheels/19/09/72/3eb74d236bb48bd0f3c6c3c83e4e0c5bbfcbcad7c6c3539db8\n",
            "Successfully built validators\n",
            "Installing collected packages: watchdog, validators, smmap, semver, pympler, pygments, mdurl, blinker, pydeck, markdown-it-py, gitdb, rich, gitpython, streamlit, st-btn-select\n",
            "  Attempting uninstall: pygments\n",
            "    Found existing installation: Pygments 2.6.1\n",
            "    Uninstalling Pygments-2.6.1:\n",
            "      Successfully uninstalled Pygments-2.6.1\n",
            "\u001b[31mERROR: pip's dependency resolver does not currently take into account all the packages that are installed. This behaviour is the source of the following dependency conflicts.\n",
            "ipython 7.9.0 requires jedi>=0.10, which is not installed.\u001b[0m\u001b[31m\n",
            "\u001b[0mSuccessfully installed blinker-1.5 gitdb-4.0.10 gitpython-3.1.30 markdown-it-py-2.1.0 mdurl-0.1.2 pydeck-0.8.0 pygments-2.14.0 pympler-1.0.1 rich-13.3.1 semver-2.13.0 smmap-5.0.0 st-btn-select-0.1.2 streamlit-1.18.1 validators-0.20.0 watchdog-2.2.1\n"
          ]
        }
      ]
    }
  ]
}